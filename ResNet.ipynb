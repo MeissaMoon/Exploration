{
 "cells": [
  {
   "cell_type": "markdown",
   "id": "abandoned-estimate",
   "metadata": {},
   "source": [
    "### ResNet Ablation\n",
    "---\n",
    "#### 실습목표\n",
    "---\n",
    "1. 직접 ResNet 구현하기\n",
    "2. 모델을 config에 따라서 변경가능하도록 만들기\n",
    "3. 직접 실험해서 성능 비교하기\n",
    "\n",
    "#### 학습내용\n",
    "- Ablation Study\n",
    "- Back to the 2015\n",
    "- Block\n",
    "- Complete Model\n",
    "- Experiment"
   ]
  },
  {
   "cell_type": "markdown",
   "id": "regular-cedar",
   "metadata": {},
   "source": [
    "### Ablation Study\n",
    " - CIFAR-10에 대해 일반 네트워크와 ResNet을 구현해서 이 둘을 비교하여 ResNet 및 residual connection의 유효성을 확인\n",
    "\n",
    "   \n",
    "#### (1) CIFAR-10 데이터셋 준비\n",
    "- [CIFAR-10 데이터셋](https://www.tensorflow.org/datasets/catalog/cifar10)\n",
    "- pip install tensorflow-datasets"
   ]
  },
  {
   "cell_type": "code",
   "execution_count": 1,
   "id": "labeled-hungary",
   "metadata": {},
   "outputs": [],
   "source": [
    "# TensorFlow and tf.keras\n",
    "import tensorflow as tf\n",
    "from tensorflow import keras\n",
    "\n",
    "# Helper libraries\n",
    "import numpy as np\n",
    "import matplotlib.pyplot as plt\n",
    "\n",
    "import tensorflow_datasets as tfds"
   ]
  },
  {
   "cell_type": "code",
   "execution_count": 2,
   "id": "matched-warrior",
   "metadata": {},
   "outputs": [],
   "source": [
    "import tensorflow as tf\n",
    "gpus = tf.config.experimental.list_physical_devices(device_type=\"GPU\")\n",
    "tf.config.experimental.set_visible_devices(devices=gpus[0], device_type=\"GPU\")\n",
    "tf.config.experimental.set_memory_growth(device=gpus[0], enable=True)"
   ]
  },
  {
   "cell_type": "code",
   "execution_count": 3,
   "id": "suburban-george",
   "metadata": {},
   "outputs": [
    {
     "data": {
      "text/plain": [
       "[PhysicalDevice(name='/physical_device:GPU:0', device_type='GPU')]"
      ]
     },
     "execution_count": 3,
     "metadata": {},
     "output_type": "execute_result"
    }
   ],
   "source": [
    "# Tensorflow가 활용할 GPU가 장착되어 있는지 확인해 봅니다.\n",
    "tf.config.list_physical_devices('GPU')"
   ]
  },
  {
   "cell_type": "code",
   "execution_count": 4,
   "id": "involved-german",
   "metadata": {},
   "outputs": [],
   "source": [
    "import tensorflow as tf\n",
    "gpus = tf.config.experimental.list_physical_devices('GPU')\n",
    "if gpus:\n",
    "  # 텐서플로가 첫 번째 GPU에 6GB 메모리만 할당하도록 제한\n",
    "    try:\n",
    "        tf.config.experimental.set_virtual_device_configuration(\n",
    "            gpus[0],\n",
    "            [tf.config.experimental.VirtualDeviceConfiguration(memory_limit=6144)])\n",
    "    except RuntimeError as e:\n",
    "        print(e)"
   ]
  },
  {
   "cell_type": "code",
   "execution_count": 5,
   "id": "signal-platinum",
   "metadata": {},
   "outputs": [],
   "source": [
    "import urllib3\n",
    "urllib3.disable_warnings()\n",
    "\n",
    "#tfds.disable_progress_bar()   # 이 주석을 풀면 데이터셋 다운로드과정의 프로그레스바가 나타나지 않습니다.\n",
    "\n",
    "(ds_train, ds_test), ds_info = tfds.load(\n",
    "    'cifar10',\n",
    "    split=['train', 'test'],\n",
    "    shuffle_files=True,\n",
    "    with_info=True,\n",
    ")"
   ]
  },
  {
   "cell_type": "code",
   "execution_count": 6,
   "id": "olive-joint",
   "metadata": {},
   "outputs": [
    {
     "name": "stdout",
     "output_type": "stream",
     "text": [
      "FeaturesDict({\n",
      "    'id': Text(shape=(), dtype=tf.string),\n",
      "    'image': Image(shape=(32, 32, 3), dtype=tf.uint8),\n",
      "    'label': ClassLabel(shape=(), dtype=tf.int64, num_classes=10),\n",
      "})\n"
     ]
    }
   ],
   "source": [
    "# Tensorflow 데이터셋을 로드하면 꼭 feature 정보를 확인해 보세요. \n",
    "print(ds_info.features)"
   ]
  },
  {
   "cell_type": "code",
   "execution_count": 7,
   "id": "concerned-payment",
   "metadata": {},
   "outputs": [
    {
     "name": "stdout",
     "output_type": "stream",
     "text": [
      "tf.Tensor(50000, shape=(), dtype=int64)\n",
      "tf.Tensor(10000, shape=(), dtype=int64)\n"
     ]
    }
   ],
   "source": [
    "# 데이터의 개수도 확인해 봅시다. \n",
    "print(tf.data.experimental.cardinality(ds_train))\n",
    "print(tf.data.experimental.cardinality(ds_test))"
   ]
  },
  {
   "cell_type": "markdown",
   "id": "constitutional-coach",
   "metadata": {},
   "source": [
    "#### Input Normalization"
   ]
  },
  {
   "cell_type": "code",
   "execution_count": 8,
   "id": "strategic-adobe",
   "metadata": {},
   "outputs": [],
   "source": [
    "def normalize_and_resize_img(image, label):\n",
    "    \"\"\"Normalizes images: `uint8` -> `float32`.\"\"\"\n",
    "    # image = tf.image.resize(image, [32, 32])\n",
    "    return tf.cast(image, tf.float32) / 255., label"
   ]
  },
  {
   "cell_type": "code",
   "execution_count": 9,
   "id": "suffering-vertex",
   "metadata": {},
   "outputs": [],
   "source": [
    "def apply_normalize_on_dataset(ds, is_test=False, batch_size=16):\n",
    "    ds = ds.map(\n",
    "        normalize_and_resize_img, \n",
    "        num_parallel_calls=1\n",
    "    )\n",
    "    ds = ds.batch(batch_size)\n",
    "    if not is_test:\n",
    "        ds = ds.repeat()\n",
    "        ds = ds.shuffle(200)\n",
    "    ds = ds.prefetch(tf.data.experimental.AUTOTUNE)\n",
    "    return ds"
   ]
  },
  {
   "cell_type": "code",
   "execution_count": 10,
   "id": "durable-birth",
   "metadata": {},
   "outputs": [
    {
     "data": {
      "text/plain": [
       "10"
      ]
     },
     "execution_count": 10,
     "metadata": {},
     "output_type": "execute_result"
    }
   ],
   "source": [
    "ds_info.features[\"label\"].num_classes"
   ]
  },
  {
   "cell_type": "code",
   "execution_count": 11,
   "id": "equal-mills",
   "metadata": {},
   "outputs": [
    {
     "data": {
      "text/plain": [
       "['airplane',\n",
       " 'automobile',\n",
       " 'bird',\n",
       " 'cat',\n",
       " 'deer',\n",
       " 'dog',\n",
       " 'frog',\n",
       " 'horse',\n",
       " 'ship',\n",
       " 'truck']"
      ]
     },
     "execution_count": 11,
     "metadata": {},
     "output_type": "execute_result"
    }
   ],
   "source": [
    "ds_info.features[\"label\"].names"
   ]
  },
  {
   "cell_type": "code",
   "execution_count": 12,
   "id": "perfect-listening",
   "metadata": {},
   "outputs": [
    {
     "data": {
      "image/png": "[encoded data removed]",
      "text/plain": [
       "<Figure size 648x648 with 9 Axes>"
      ]
     },
     "metadata": {},
     "output_type": "display_data"
    }
   ],
   "source": [
    "fig = tfds.show_examples(ds_train, ds_info)"
   ]
  },
  {
   "cell_type": "code",
   "execution_count": 13,
   "id": "sonic-maldives",
   "metadata": {},
   "outputs": [
    {
     "data": {
      "image/png": "[encoded data removed]",
      "text/plain": [
       "<Figure size 648x648 with 9 Axes>"
      ]
     },
     "metadata": {},
     "output_type": "display_data"
    }
   ],
   "source": [
    "fig = tfds.show_examples(ds_test, ds_info)"
   ]
  },
  {
   "cell_type": "markdown",
   "id": "applied-shooting",
   "metadata": {},
   "source": [
    "#### (2) 블록 구성\n",
    "      \n",
    "#### VGG의 블록의 특징   \n",
    "  - CNN 레이어 여러 개와 Max pooling 레이어 한 개로 이루어짐\n",
    "  - CNN은 모두 커널 크기가 3x3 라는 대표적인 특징을 가지고 있음\n",
    "  - 블록 내 CNN 레이어의 채널은 하나로 유지되지만 서로 다른 블록 간 CNN 레이어의 채널 수는 다를 수 있음\n",
    "  - 블록에 따라서 CNN 레이어의 갯수 또한 달라짐\n",
    "  - 블록의 마지막에는 항상 Max Pooling 레이어가 붙음\n",
    "  "
   ]
  },
  {
   "cell_type": "code",
   "execution_count": 14,
   "id": "dental-shelf",
   "metadata": {},
   "outputs": [],
   "source": [
    "# function for building VGG Block\n",
    "\n",
    "def build_vgg_block(input_layer,\n",
    "                    num_cnn=3, \n",
    "                    channel=64,\n",
    "                    block_num=1,\n",
    "                   ):\n",
    "    # 입력 레이어\n",
    "    x = input_layer\n",
    "\n",
    "    # CNN 레이어\n",
    "    for cnn_num in range(num_cnn):\n",
    "        x = keras.layers.Conv2D(\n",
    "            filters=channel,\n",
    "            kernel_size=(3,3),\n",
    "            activation='relu',\n",
    "            kernel_initializer='he_normal',\n",
    "            padding='same',\n",
    "            name=f'block{block_num}_conv{cnn_num}'\n",
    "        )(x)    \n",
    "\n",
    "    # Max Pooling 레이어\n",
    "    x = keras.layers.MaxPooling2D(\n",
    "        pool_size=(2, 2),\n",
    "        strides=2,\n",
    "        name=f'block{block_num}_pooling'\n",
    "    )(x)\n",
    "\n",
    "    return x"
   ]
  },
  {
   "cell_type": "code",
   "execution_count": 15,
   "id": "animal-dependence",
   "metadata": {},
   "outputs": [],
   "source": [
    "vgg_input_layer = keras.layers.Input(shape=(32,32,3))   # 입력 레이어 생성\n",
    "vgg_block_output = build_vgg_block(vgg_input_layer)    # VGG 블록 생성"
   ]
  },
  {
   "cell_type": "code",
   "execution_count": 16,
   "id": "threatened-allowance",
   "metadata": {},
   "outputs": [
    {
     "name": "stdout",
     "output_type": "stream",
     "text": [
      "Model: \"model\"\n",
      "_________________________________________________________________\n",
      "Layer (type)                 Output Shape              Param #   \n",
      "=================================================================\n",
      "input_1 (InputLayer)         [(None, 32, 32, 3)]       0         \n",
      "_________________________________________________________________\n",
      "block1_conv0 (Conv2D)        (None, 32, 32, 64)        1792      \n",
      "_________________________________________________________________\n",
      "block1_conv1 (Conv2D)        (None, 32, 32, 64)        36928     \n",
      "_________________________________________________________________\n",
      "block1_conv2 (Conv2D)        (None, 32, 32, 64)        36928     \n",
      "_________________________________________________________________\n",
      "block1_pooling (MaxPooling2D (None, 16, 16, 64)        0         \n",
      "=================================================================\n",
      "Total params: 75,648\n",
      "Trainable params: 75,648\n",
      "Non-trainable params: 0\n",
      "_________________________________________________________________\n"
     ]
    }
   ],
   "source": [
    "# 블록 1개짜리 model 생성\n",
    "model = keras.Model(inputs=vgg_input_layer, outputs=vgg_block_output)  \n",
    "\n",
    "model.summary()"
   ]
  },
  {
   "cell_type": "markdown",
   "id": "small-miracle",
   "metadata": {},
   "source": [
    "#### (3) VGG Complete Model\n",
    "\n",
    "1) VGG-16"
   ]
  },
  {
   "cell_type": "code",
   "execution_count": 17,
   "id": "stopped-blake",
   "metadata": {},
   "outputs": [],
   "source": [
    "# VGG 모델 자체를 생성하는 함수입니다.\n",
    "def build_vgg(input_shape=(32,32,3),\n",
    "              num_cnn_list=[2,2,3,3,3],\n",
    "              channel_list=[64,128,256,512,512],\n",
    "              num_classes=10):\n",
    "    \n",
    "    assert len(num_cnn_list) == len(channel_list) #모델을 만들기 전에 config list들이 같은 길이인지 확인합니다.\n",
    "    \n",
    "    input_layer = keras.layers.Input(shape=input_shape)  # input layer를 만들어둡니다.\n",
    "    output = input_layer\n",
    "    \n",
    "    # config list들의 길이만큼 반복해서 블록을 생성합니다.\n",
    "    for i, (num_cnn, channel) in enumerate(zip(num_cnn_list, channel_list)):\n",
    "        output = build_vgg_block(\n",
    "            output,\n",
    "            num_cnn=num_cnn, \n",
    "            channel=channel,\n",
    "            block_num=i\n",
    "        )\n",
    "        \n",
    "    output = keras.layers.Flatten(name='flatten')(output)\n",
    "    output = keras.layers.Dense(4096, activation='relu', name='fc1')(output)\n",
    "    output = keras.layers.Dense(4096, activation='relu', name='fc2')(output)\n",
    "    output = keras.layers.Dense(num_classes, activation='softmax', name='predictions')(output)\n",
    "    \n",
    "    model = keras.Model(\n",
    "        inputs=input_layer, \n",
    "        outputs=output\n",
    "    )\n",
    "    return model"
   ]
  },
  {
   "cell_type": "code",
   "execution_count": 18,
   "id": "interstate-negotiation",
   "metadata": {},
   "outputs": [
    {
     "name": "stdout",
     "output_type": "stream",
     "text": [
      "Model: \"model_1\"\n",
      "_________________________________________________________________\n",
      "Layer (type)                 Output Shape              Param #   \n",
      "=================================================================\n",
      "input_2 (InputLayer)         [(None, 32, 32, 3)]       0         \n",
      "_________________________________________________________________\n",
      "block0_conv0 (Conv2D)        (None, 32, 32, 64)        1792      \n",
      "_________________________________________________________________\n",
      "block0_conv1 (Conv2D)        (None, 32, 32, 64)        36928     \n",
      "_________________________________________________________________\n",
      "block0_pooling (MaxPooling2D (None, 16, 16, 64)        0         \n",
      "_________________________________________________________________\n",
      "block1_conv0 (Conv2D)        (None, 16, 16, 128)       73856     \n",
      "_________________________________________________________________\n",
      "block1_conv1 (Conv2D)        (None, 16, 16, 128)       147584    \n",
      "_________________________________________________________________\n",
      "block1_pooling (MaxPooling2D (None, 8, 8, 128)         0         \n",
      "_________________________________________________________________\n",
      "block2_conv0 (Conv2D)        (None, 8, 8, 256)         295168    \n",
      "_________________________________________________________________\n",
      "block2_conv1 (Conv2D)        (None, 8, 8, 256)         590080    \n",
      "_________________________________________________________________\n",
      "block2_conv2 (Conv2D)        (None, 8, 8, 256)         590080    \n",
      "_________________________________________________________________\n",
      "block2_pooling (MaxPooling2D (None, 4, 4, 256)         0         \n",
      "_________________________________________________________________\n",
      "block3_conv0 (Conv2D)        (None, 4, 4, 512)         1180160   \n",
      "_________________________________________________________________\n",
      "block3_conv1 (Conv2D)        (None, 4, 4, 512)         2359808   \n",
      "_________________________________________________________________\n",
      "block3_conv2 (Conv2D)        (None, 4, 4, 512)         2359808   \n",
      "_________________________________________________________________\n",
      "block3_pooling (MaxPooling2D (None, 2, 2, 512)         0         \n",
      "_________________________________________________________________\n",
      "block4_conv0 (Conv2D)        (None, 2, 2, 512)         2359808   \n",
      "_________________________________________________________________\n",
      "block4_conv1 (Conv2D)        (None, 2, 2, 512)         2359808   \n",
      "_________________________________________________________________\n",
      "block4_conv2 (Conv2D)        (None, 2, 2, 512)         2359808   \n",
      "_________________________________________________________________\n",
      "block4_pooling (MaxPooling2D (None, 1, 1, 512)         0         \n",
      "_________________________________________________________________\n",
      "flatten (Flatten)            (None, 512)               0         \n",
      "_________________________________________________________________\n",
      "fc1 (Dense)                  (None, 4096)              2101248   \n",
      "_________________________________________________________________\n",
      "fc2 (Dense)                  (None, 4096)              16781312  \n",
      "_________________________________________________________________\n",
      "predictions (Dense)          (None, 10)                40970     \n",
      "=================================================================\n",
      "Total params: 33,638,218\n",
      "Trainable params: 33,638,218\n",
      "Non-trainable params: 0\n",
      "_________________________________________________________________\n"
     ]
    }
   ],
   "source": [
    "# 기본값을 그대로 사용해서 VGG 모델을 만들면 VGG-16이 됩니다.\n",
    "vgg_16 = build_vgg()\n",
    "\n",
    "vgg_16.summary()"
   ]
  },
  {
   "cell_type": "markdown",
   "id": "sticky-rapid",
   "metadata": {},
   "source": [
    "2) VGG-19"
   ]
  },
  {
   "cell_type": "code",
   "execution_count": 19,
   "id": "informed-usage",
   "metadata": {},
   "outputs": [
    {
     "name": "stdout",
     "output_type": "stream",
     "text": [
      "Model: \"model_2\"\n",
      "_________________________________________________________________\n",
      "Layer (type)                 Output Shape              Param #   \n",
      "=================================================================\n",
      "input_3 (InputLayer)         [(None, 32, 32, 3)]       0         \n",
      "_________________________________________________________________\n",
      "block0_conv0 (Conv2D)        (None, 32, 32, 64)        1792      \n",
      "_________________________________________________________________\n",
      "block0_conv1 (Conv2D)        (None, 32, 32, 64)        36928     \n",
      "_________________________________________________________________\n",
      "block0_pooling (MaxPooling2D (None, 16, 16, 64)        0         \n",
      "_________________________________________________________________\n",
      "block1_conv0 (Conv2D)        (None, 16, 16, 128)       73856     \n",
      "_________________________________________________________________\n",
      "block1_conv1 (Conv2D)        (None, 16, 16, 128)       147584    \n",
      "_________________________________________________________________\n",
      "block1_pooling (MaxPooling2D (None, 8, 8, 128)         0         \n",
      "_________________________________________________________________\n",
      "block2_conv0 (Conv2D)        (None, 8, 8, 256)         295168    \n",
      "_________________________________________________________________\n",
      "block2_conv1 (Conv2D)        (None, 8, 8, 256)         590080    \n",
      "_________________________________________________________________\n",
      "block2_conv2 (Conv2D)        (None, 8, 8, 256)         590080    \n",
      "_________________________________________________________________\n",
      "block2_conv3 (Conv2D)        (None, 8, 8, 256)         590080    \n",
      "_________________________________________________________________\n",
      "block2_pooling (MaxPooling2D (None, 4, 4, 256)         0         \n",
      "_________________________________________________________________\n",
      "block3_conv0 (Conv2D)        (None, 4, 4, 512)         1180160   \n",
      "_________________________________________________________________\n",
      "block3_conv1 (Conv2D)        (None, 4, 4, 512)         2359808   \n",
      "_________________________________________________________________\n",
      "block3_conv2 (Conv2D)        (None, 4, 4, 512)         2359808   \n",
      "_________________________________________________________________\n",
      "block3_conv3 (Conv2D)        (None, 4, 4, 512)         2359808   \n",
      "_________________________________________________________________\n",
      "block3_pooling (MaxPooling2D (None, 2, 2, 512)         0         \n",
      "_________________________________________________________________\n",
      "block4_conv0 (Conv2D)        (None, 2, 2, 512)         2359808   \n",
      "_________________________________________________________________\n",
      "block4_conv1 (Conv2D)        (None, 2, 2, 512)         2359808   \n",
      "_________________________________________________________________\n",
      "block4_conv2 (Conv2D)        (None, 2, 2, 512)         2359808   \n",
      "_________________________________________________________________\n",
      "block4_conv3 (Conv2D)        (None, 2, 2, 512)         2359808   \n",
      "_________________________________________________________________\n",
      "block4_pooling (MaxPooling2D (None, 1, 1, 512)         0         \n",
      "_________________________________________________________________\n",
      "flatten (Flatten)            (None, 512)               0         \n",
      "_________________________________________________________________\n",
      "fc1 (Dense)                  (None, 4096)              2101248   \n",
      "_________________________________________________________________\n",
      "fc2 (Dense)                  (None, 4096)              16781312  \n",
      "_________________________________________________________________\n",
      "predictions (Dense)          (None, 10)                40970     \n",
      "=================================================================\n",
      "Total params: 38,947,914\n",
      "Trainable params: 38,947,914\n",
      "Non-trainable params: 0\n",
      "_________________________________________________________________\n"
     ]
    }
   ],
   "source": [
    "# 원하는 블록의 설계에 따라 매개변수로 리스트를 전달해 줍니다.\n",
    "vgg_19 = build_vgg(\n",
    "    num_cnn_list=[2,2,4,4,4],\n",
    "    channel_list=[64,128,256,512,512]\n",
    ")\n",
    "\n",
    "vgg_19.summary()"
   ]
  },
  {
   "cell_type": "markdown",
   "id": "studied-receipt",
   "metadata": {},
   "source": [
    "#### (4) VGG-16 vs VGG-19"
   ]
  },
  {
   "cell_type": "code",
   "execution_count": 20,
   "id": "scientific-orchestra",
   "metadata": {},
   "outputs": [],
   "source": [
    "BATCH_SIZE = 256\n",
    "EPOCH = 20"
   ]
  },
  {
   "cell_type": "code",
   "execution_count": 21,
   "id": "advance-madrid",
   "metadata": {},
   "outputs": [],
   "source": [
    "(ds_train, ds_test), ds_info = tfds.load(\n",
    "    'cifar10',\n",
    "    split=['train', 'test'],\n",
    "    as_supervised=True,\n",
    "    shuffle_files=True,\n",
    "    with_info=True,\n",
    ")\n",
    "ds_train = apply_normalize_on_dataset(ds_train, batch_size=BATCH_SIZE)\n",
    "ds_test = apply_normalize_on_dataset(ds_test, batch_size=BATCH_SIZE)"
   ]
  },
  {
   "cell_type": "code",
   "execution_count": 22,
   "id": "extreme-coast",
   "metadata": {},
   "outputs": [
    {
     "name": "stdout",
     "output_type": "stream",
     "text": [
      "Epoch 1/20\n",
      "195/195 [==============================] - 51s 171ms/step - loss: 2.2322 - accuracy: 0.1604 - val_loss: 2.0360 - val_accuracy: 0.2600\n",
      "Epoch 2/20\n",
      "195/195 [==============================] - 16s 81ms/step - loss: 2.0311 - accuracy: 0.2628 - val_loss: 1.9369 - val_accuracy: 0.3112\n",
      "Epoch 3/20\n",
      "195/195 [==============================] - 16s 81ms/step - loss: 1.8920 - accuracy: 0.3181 - val_loss: 1.7887 - val_accuracy: 0.3713\n",
      "Epoch 4/20\n",
      "195/195 [==============================] - 16s 82ms/step - loss: 1.7807 - accuracy: 0.3613 - val_loss: 1.7170 - val_accuracy: 0.4071\n",
      "Epoch 5/20\n",
      "195/195 [==============================] - 16s 81ms/step - loss: 1.6914 - accuracy: 0.3931 - val_loss: 1.6259 - val_accuracy: 0.4269\n",
      "Epoch 6/20\n",
      "195/195 [==============================] - 16s 82ms/step - loss: 1.6222 - accuracy: 0.4138 - val_loss: 1.5763 - val_accuracy: 0.4412\n",
      "Epoch 7/20\n",
      "195/195 [==============================] - 16s 82ms/step - loss: 1.5660 - accuracy: 0.4340 - val_loss: 1.5385 - val_accuracy: 0.4563\n",
      "Epoch 8/20\n",
      "195/195 [==============================] - 16s 82ms/step - loss: 1.5122 - accuracy: 0.4527 - val_loss: 1.4253 - val_accuracy: 0.4789\n",
      "Epoch 9/20\n",
      "195/195 [==============================] - 16s 82ms/step - loss: 1.4821 - accuracy: 0.4661 - val_loss: 1.4519 - val_accuracy: 0.4946\n",
      "Epoch 10/20\n",
      "195/195 [==============================] - 16s 82ms/step - loss: 1.4391 - accuracy: 0.4815 - val_loss: 1.3807 - val_accuracy: 0.5007\n",
      "Epoch 11/20\n",
      "195/195 [==============================] - 16s 82ms/step - loss: 1.3774 - accuracy: 0.5057 - val_loss: 1.3671 - val_accuracy: 0.5094\n",
      "Epoch 12/20\n",
      "195/195 [==============================] - 16s 82ms/step - loss: 1.3524 - accuracy: 0.5181 - val_loss: 1.3054 - val_accuracy: 0.5354\n",
      "Epoch 13/20\n",
      "195/195 [==============================] - 16s 82ms/step - loss: 1.3103 - accuracy: 0.5327 - val_loss: 1.3372 - val_accuracy: 0.5155\n",
      "Epoch 14/20\n",
      "195/195 [==============================] - 16s 82ms/step - loss: 1.2834 - accuracy: 0.5440 - val_loss: 1.2922 - val_accuracy: 0.5421\n",
      "Epoch 15/20\n",
      "195/195 [==============================] - 16s 82ms/step - loss: 1.2401 - accuracy: 0.5591 - val_loss: 1.2638 - val_accuracy: 0.5446\n",
      "Epoch 16/20\n",
      "195/195 [==============================] - 16s 82ms/step - loss: 1.2254 - accuracy: 0.5644 - val_loss: 1.2491 - val_accuracy: 0.5567\n",
      "Epoch 17/20\n",
      "195/195 [==============================] - 16s 82ms/step - loss: 1.1802 - accuracy: 0.5791 - val_loss: 1.2372 - val_accuracy: 0.5617\n",
      "Epoch 18/20\n",
      "195/195 [==============================] - 16s 82ms/step - loss: 1.1537 - accuracy: 0.5851 - val_loss: 1.2379 - val_accuracy: 0.5477\n",
      "Epoch 19/20\n",
      "195/195 [==============================] - 16s 82ms/step - loss: 1.1318 - accuracy: 0.6007 - val_loss: 1.1860 - val_accuracy: 0.5771\n",
      "Epoch 20/20\n",
      "195/195 [==============================] - 16s 84ms/step - loss: 1.0949 - accuracy: 0.6105 - val_loss: 1.1942 - val_accuracy: 0.5857\n"
     ]
    }
   ],
   "source": [
    "vgg_16.compile(\n",
    "    loss='sparse_categorical_crossentropy',\n",
    "    optimizer=tf.keras.optimizers.SGD(lr=0.01, clipnorm=1.),\n",
    "    metrics=['accuracy'],\n",
    ")\n",
    "\n",
    "history_16 = vgg_16.fit(\n",
    "    ds_train,\n",
    "    steps_per_epoch=int(ds_info.splits['train'].num_examples/BATCH_SIZE),\n",
    "    validation_steps=int(ds_info.splits['test'].num_examples/BATCH_SIZE),\n",
    "    epochs=EPOCH,\n",
    "    validation_data=ds_test,\n",
    "    verbose=1,\n",
    "    use_multiprocessing=True,\n",
    ")"
   ]
  },
  {
   "cell_type": "code",
   "execution_count": 23,
   "id": "optional-market",
   "metadata": {},
   "outputs": [
    {
     "name": "stdout",
     "output_type": "stream",
     "text": [
      "Epoch 1/20\n",
      "195/195 [==============================] - 22s 100ms/step - loss: 2.2820 - accuracy: 0.1428 - val_loss: 2.1490 - val_accuracy: 0.1756\n",
      "Epoch 2/20\n",
      "195/195 [==============================] - 19s 97ms/step - loss: 2.1198 - accuracy: 0.2158 - val_loss: 2.0204 - val_accuracy: 0.2848\n",
      "Epoch 3/20\n",
      "195/195 [==============================] - 19s 96ms/step - loss: 1.9766 - accuracy: 0.2751 - val_loss: 1.8785 - val_accuracy: 0.3299\n",
      "Epoch 4/20\n",
      "195/195 [==============================] - 19s 97ms/step - loss: 1.8542 - accuracy: 0.3271 - val_loss: 1.7779 - val_accuracy: 0.3544\n",
      "Epoch 5/20\n",
      "195/195 [==============================] - 19s 97ms/step - loss: 1.7594 - accuracy: 0.3608 - val_loss: 1.6895 - val_accuracy: 0.3838\n",
      "Epoch 6/20\n",
      "195/195 [==============================] - 19s 97ms/step - loss: 1.6751 - accuracy: 0.3943 - val_loss: 1.6429 - val_accuracy: 0.4135\n",
      "Epoch 7/20\n",
      "195/195 [==============================] - 19s 97ms/step - loss: 1.6138 - accuracy: 0.4185 - val_loss: 1.6622 - val_accuracy: 0.4057\n",
      "Epoch 8/20\n",
      "195/195 [==============================] - 19s 97ms/step - loss: 1.5641 - accuracy: 0.4353 - val_loss: 1.5182 - val_accuracy: 0.4580\n",
      "Epoch 9/20\n",
      "195/195 [==============================] - 19s 97ms/step - loss: 1.5072 - accuracy: 0.4541 - val_loss: 1.4791 - val_accuracy: 0.4677\n",
      "Epoch 10/20\n",
      "195/195 [==============================] - 19s 97ms/step - loss: 1.4590 - accuracy: 0.4755 - val_loss: 1.4082 - val_accuracy: 0.4967\n",
      "Epoch 11/20\n",
      "195/195 [==============================] - 19s 97ms/step - loss: 1.4282 - accuracy: 0.4859 - val_loss: 1.4054 - val_accuracy: 0.4905\n",
      "Epoch 12/20\n",
      "195/195 [==============================] - 19s 97ms/step - loss: 1.3800 - accuracy: 0.5057 - val_loss: 1.3335 - val_accuracy: 0.5268\n",
      "Epoch 13/20\n",
      "195/195 [==============================] - 19s 97ms/step - loss: 1.3417 - accuracy: 0.5132 - val_loss: 1.3448 - val_accuracy: 0.5188\n",
      "Epoch 14/20\n",
      "195/195 [==============================] - 19s 97ms/step - loss: 1.3099 - accuracy: 0.5293 - val_loss: 1.2834 - val_accuracy: 0.5454\n",
      "Epoch 15/20\n",
      "195/195 [==============================] - 19s 97ms/step - loss: 1.2728 - accuracy: 0.5476 - val_loss: 1.2434 - val_accuracy: 0.5536\n",
      "Epoch 16/20\n",
      "195/195 [==============================] - 19s 98ms/step - loss: 1.2360 - accuracy: 0.5591 - val_loss: 1.2244 - val_accuracy: 0.5573\n",
      "Epoch 17/20\n",
      "195/195 [==============================] - 19s 97ms/step - loss: 1.1893 - accuracy: 0.5745 - val_loss: 1.2184 - val_accuracy: 0.5576\n",
      "Epoch 18/20\n",
      "195/195 [==============================] - 19s 98ms/step - loss: 1.1679 - accuracy: 0.5856 - val_loss: 1.1968 - val_accuracy: 0.5726\n",
      "Epoch 19/20\n",
      "195/195 [==============================] - 19s 98ms/step - loss: 1.1251 - accuracy: 0.6019 - val_loss: 1.1396 - val_accuracy: 0.5980\n",
      "Epoch 20/20\n",
      "195/195 [==============================] - 19s 97ms/step - loss: 1.0950 - accuracy: 0.6101 - val_loss: 1.2126 - val_accuracy: 0.5772\n"
     ]
    }
   ],
   "source": [
    "vgg_19.compile(\n",
    "    loss='sparse_categorical_crossentropy',\n",
    "    optimizer=tf.keras.optimizers.SGD(lr=0.01, clipnorm=1.),\n",
    "    metrics=['accuracy'],\n",
    ")\n",
    "\n",
    "history_19 = vgg_19.fit(\n",
    "    ds_train,\n",
    "    steps_per_epoch=int(ds_info.splits['train'].num_examples/BATCH_SIZE),\n",
    "    validation_steps=int(ds_info.splits['test'].num_examples/BATCH_SIZE),\n",
    "    epochs=EPOCH,\n",
    "    validation_data=ds_test,\n",
    "    verbose=1,\n",
    "    use_multiprocessing=True,\n",
    ")"
   ]
  },
  {
   "cell_type": "code",
   "execution_count": 24,
   "id": "coupled-aurora",
   "metadata": {},
   "outputs": [
    {
     "data": {
      "image/png": "[encoded data removed]",
      "text/plain": [
       "<Figure size 432x288 with 1 Axes>"
      ]
     },
     "metadata": {
      "needs_background": "light"
     },
     "output_type": "display_data"
    }
   ],
   "source": [
    "import matplotlib.pyplot as plt\n",
    "\n",
    "plt.plot(history_16.history['loss'], 'r')\n",
    "plt.plot(history_19.history['loss'], 'b')\n",
    "plt.title('Model training loss')\n",
    "plt.ylabel('Loss')\n",
    "plt.xlabel('Epoch')\n",
    "plt.legend(['vgg_16', 'vgg_19'], loc='upper left')\n",
    "plt.show()"
   ]
  },
  {
   "cell_type": "code",
   "execution_count": 25,
   "id": "accessory-crystal",
   "metadata": {},
   "outputs": [
    {
     "data": {
      "image/png": "[encoded data removed]",
      "text/plain": [
       "<Figure size 432x288 with 1 Axes>"
      ]
     },
     "metadata": {
      "needs_background": "light"
     },
     "output_type": "display_data"
    }
   ],
   "source": [
    "plt.plot(history_16.history['val_accuracy'], 'r')\n",
    "plt.plot(history_19.history['val_accuracy'], 'b')\n",
    "plt.title('Model validation accuracy')\n",
    "plt.ylabel('Accuracy')\n",
    "plt.xlabel('Epoch')\n",
    "plt.legend(['vgg_16', 'vgg_19'], loc='upper left')\n",
    "plt.show()"
   ]
  },
  {
   "cell_type": "markdown",
   "id": "indirect-linux",
   "metadata": {},
   "source": [
    "#### 프로젝트: ResNet Ablation Study\n",
    "1) ResNet 기본 블록 구성\n",
    "- [Deep Residual Learning for Image Recognition(paper)](https://arxiv.org/pdf/1512.03385.pdf)"
   ]
  },
  {
   "cell_type": "code",
   "execution_count": 5,
   "id": "fantastic-ordering",
   "metadata": {},
   "outputs": [],
   "source": [
    "from tensorflow import Tensor\n",
    "from tensorflow.keras.layers import Input, Conv2D, ReLU, BatchNormalization,\\\n",
    "                                    Add, AveragePooling2D, Flatten, Dense\n",
    "from tensorflow.keras.models import Model\n",
    "\n",
    "def relu_bn(inputs: Tensor) -> Tensor:\n",
    "    relu = ReLU()(inputs)\n",
    "    bn = BatchNormalization()(relu)\n",
    "    return bn\n",
    "\n",
    "def residual_block(x: Tensor, downsample: bool, filters: int, kernel_size: int = 3) -> Tensor:\n",
    "    y = Conv2D(kernel_size=kernel_size,\n",
    "               strides= (1 if not downsample else 2),\n",
    "               filters=filters,\n",
    "               padding=\"same\")(x)\n",
    "    y = relu_bn(y)\n",
    "    y = Conv2D(kernel_size=kernel_size,\n",
    "               strides=1,\n",
    "               filters=filters,\n",
    "               padding=\"same\")(y)\n",
    "\n",
    "    if downsample:\n",
    "        x = Conv2D(kernel_size=1,\n",
    "                   strides=2,\n",
    "                   filters=filters,\n",
    "                   padding=\"same\")(x)\n",
    "    out = Add()([x, y])\n",
    "    out = relu_bn(out)\n",
    "    return out\n",
    "\n",
    "def build_res_net():\n",
    "    \n",
    "    inputs = Input(shape=(32, 32, 3))\n",
    "    num_filters = 64\n",
    "    \n",
    "    t = BatchNormalization()(inputs)\n",
    "    t = Conv2D(kernel_size=3,\n",
    "               strides=1,\n",
    "               filters=num_filters,\n",
    "               padding=\"same\")(t)\n",
    "    t = relu_bn(t)\n",
    "    \n",
    "    num_blocks_list = [2, 5, 5, 2]\n",
    "    for i in range(len(num_blocks_list)):\n",
    "        num_blocks = num_blocks_list[i]\n",
    "        for j in range(num_blocks):\n",
    "            t = residual_block(t, downsample=(j==0 and i!=0), filters=num_filters)\n",
    "        num_filters *= 2\n",
    "    \n",
    "    t = AveragePooling2D(4)(t)\n",
    "    t = Flatten()(t)\n",
    "    outputs = Dense(10, activation='softmax')(t)\n",
    "    \n",
    "    model = Model(inputs, outputs)\n",
    "\n",
    "    model.compile(\n",
    "        optimizer='adam',\n",
    "        loss='sparse_categorical_crossentropy',\n",
    "        metrics=['accuracy']\n",
    "    )\n",
    "\n",
    "    return model"
   ]
  },
  {
   "cell_type": "code",
   "execution_count": 6,
   "id": "banner-cherry",
   "metadata": {},
   "outputs": [],
   "source": [
    "from tensorflow import Tensor\n",
    "from tensorflow.keras.layers import Input, Conv2D, ReLU, BatchNormalization,\\\n",
    "                                    AveragePooling2D, Flatten, Dense\n",
    "from tensorflow.keras.models import Model\n",
    "\n",
    "def relu_bn(inputs: Tensor) -> Tensor:\n",
    "    relu = ReLU()(inputs)\n",
    "    bn = BatchNormalization()(relu)\n",
    "    return bn\n",
    "\n",
    "def build_plain_net():\n",
    "    \n",
    "    inputs = Input(shape=(32, 32, 3))\n",
    "    num_filters = 64\n",
    "    \n",
    "    t = BatchNormalization()(inputs)\n",
    "    t = Conv2D(kernel_size=3,\n",
    "               strides=1,\n",
    "               filters=num_filters,\n",
    "               padding=\"same\")(t)\n",
    "    t = relu_bn(t)\n",
    "    \n",
    "    num_blocks_list = [4, 10, 10, 4]\n",
    "    for i in range(len(num_blocks_list)):\n",
    "        num_blocks = num_blocks_list[i]\n",
    "        for j in range(num_blocks):\n",
    "            downsample = (j==0 and i!=0)\n",
    "            t = Conv2D(kernel_size=3,\n",
    "                       strides= (1 if not downsample else 2),\n",
    "                       filters=num_filters,\n",
    "                       padding=\"same\")(t)\n",
    "            t = relu_bn(t)\n",
    "        num_filters *= 2\n",
    "    \n",
    "    t = AveragePooling2D(4)(t)\n",
    "    t = Flatten()(t)\n",
    "    outputs = Dense(10, activation='softmax')(t)\n",
    "    \n",
    "    model = Model(inputs, outputs)\n",
    "\n",
    "    model.compile(\n",
    "        optimizer='adam',\n",
    "        loss='sparse_categorical_crossentropy',\n",
    "        metrics=['accuracy']\n",
    "    )\n",
    "\n",
    "    return model"
   ]
  },
  {
   "cell_type": "code",
   "execution_count": 19,
   "id": "sitting-devon",
   "metadata": {},
   "outputs": [
    {
     "name": "stdout",
     "output_type": "stream",
     "text": [
      "Model: \"model_2\"\n",
      "__________________________________________________________________________________________________\n",
      "Layer (type)                    Output Shape         Param #     Connected to                     \n",
      "==================================================================================================\n",
      "input_3 (InputLayer)            [(None, 32, 32, 3)]  0                                            \n",
      "__________________________________________________________________________________________________\n",
      "batch_normalization_60 (BatchNo (None, 32, 32, 3)    12          input_3[0][0]                    \n",
      "__________________________________________________________________________________________________\n",
      "conv2d_64 (Conv2D)              (None, 32, 32, 64)   1792        batch_normalization_60[0][0]     \n",
      "__________________________________________________________________________________________________\n",
      "re_lu_58 (ReLU)                 (None, 32, 32, 64)   0           conv2d_64[0][0]                  \n",
      "__________________________________________________________________________________________________\n",
      "batch_normalization_61 (BatchNo (None, 32, 32, 64)   256         re_lu_58[0][0]                   \n",
      "__________________________________________________________________________________________________\n",
      "conv2d_65 (Conv2D)              (None, 32, 32, 64)   36928       batch_normalization_61[0][0]     \n",
      "__________________________________________________________________________________________________\n",
      "re_lu_59 (ReLU)                 (None, 32, 32, 64)   0           conv2d_65[0][0]                  \n",
      "__________________________________________________________________________________________________\n",
      "batch_normalization_62 (BatchNo (None, 32, 32, 64)   256         re_lu_59[0][0]                   \n",
      "__________________________________________________________________________________________________\n",
      "conv2d_66 (Conv2D)              (None, 32, 32, 64)   36928       batch_normalization_62[0][0]     \n",
      "__________________________________________________________________________________________________\n",
      "add_28 (Add)                    (None, 32, 32, 64)   0           batch_normalization_61[0][0]     \n",
      "                                                                 conv2d_66[0][0]                  \n",
      "__________________________________________________________________________________________________\n",
      "re_lu_60 (ReLU)                 (None, 32, 32, 64)   0           add_28[0][0]                     \n",
      "__________________________________________________________________________________________________\n",
      "batch_normalization_63 (BatchNo (None, 32, 32, 64)   256         re_lu_60[0][0]                   \n",
      "__________________________________________________________________________________________________\n",
      "conv2d_67 (Conv2D)              (None, 32, 32, 64)   36928       batch_normalization_63[0][0]     \n",
      "__________________________________________________________________________________________________\n",
      "re_lu_61 (ReLU)                 (None, 32, 32, 64)   0           conv2d_67[0][0]                  \n",
      "__________________________________________________________________________________________________\n",
      "batch_normalization_64 (BatchNo (None, 32, 32, 64)   256         re_lu_61[0][0]                   \n",
      "__________________________________________________________________________________________________\n",
      "conv2d_68 (Conv2D)              (None, 32, 32, 64)   36928       batch_normalization_64[0][0]     \n",
      "__________________________________________________________________________________________________\n",
      "add_29 (Add)                    (None, 32, 32, 64)   0           batch_normalization_63[0][0]     \n",
      "                                                                 conv2d_68[0][0]                  \n",
      "__________________________________________________________________________________________________\n",
      "re_lu_62 (ReLU)                 (None, 32, 32, 64)   0           add_29[0][0]                     \n",
      "__________________________________________________________________________________________________\n",
      "batch_normalization_65 (BatchNo (None, 32, 32, 64)   256         re_lu_62[0][0]                   \n",
      "__________________________________________________________________________________________________\n",
      "conv2d_69 (Conv2D)              (None, 16, 16, 128)  73856       batch_normalization_65[0][0]     \n",
      "__________________________________________________________________________________________________\n",
      "re_lu_63 (ReLU)                 (None, 16, 16, 128)  0           conv2d_69[0][0]                  \n",
      "__________________________________________________________________________________________________\n",
      "batch_normalization_66 (BatchNo (None, 16, 16, 128)  512         re_lu_63[0][0]                   \n",
      "__________________________________________________________________________________________________\n",
      "conv2d_71 (Conv2D)              (None, 16, 16, 128)  8320        batch_normalization_65[0][0]     \n",
      "__________________________________________________________________________________________________\n",
      "conv2d_70 (Conv2D)              (None, 16, 16, 128)  147584      batch_normalization_66[0][0]     \n",
      "__________________________________________________________________________________________________\n",
      "add_30 (Add)                    (None, 16, 16, 128)  0           conv2d_71[0][0]                  \n",
      "                                                                 conv2d_70[0][0]                  \n",
      "__________________________________________________________________________________________________\n",
      "re_lu_64 (ReLU)                 (None, 16, 16, 128)  0           add_30[0][0]                     \n",
      "__________________________________________________________________________________________________\n",
      "batch_normalization_67 (BatchNo (None, 16, 16, 128)  512         re_lu_64[0][0]                   \n",
      "__________________________________________________________________________________________________\n",
      "conv2d_72 (Conv2D)              (None, 16, 16, 128)  147584      batch_normalization_67[0][0]     \n",
      "__________________________________________________________________________________________________\n",
      "re_lu_65 (ReLU)                 (None, 16, 16, 128)  0           conv2d_72[0][0]                  \n",
      "__________________________________________________________________________________________________\n",
      "batch_normalization_68 (BatchNo (None, 16, 16, 128)  512         re_lu_65[0][0]                   \n",
      "__________________________________________________________________________________________________\n",
      "conv2d_73 (Conv2D)              (None, 16, 16, 128)  147584      batch_normalization_68[0][0]     \n",
      "__________________________________________________________________________________________________\n",
      "add_31 (Add)                    (None, 16, 16, 128)  0           batch_normalization_67[0][0]     \n",
      "                                                                 conv2d_73[0][0]                  \n",
      "__________________________________________________________________________________________________\n",
      "re_lu_66 (ReLU)                 (None, 16, 16, 128)  0           add_31[0][0]                     \n",
      "__________________________________________________________________________________________________\n",
      "batch_normalization_69 (BatchNo (None, 16, 16, 128)  512         re_lu_66[0][0]                   \n",
      "__________________________________________________________________________________________________\n",
      "conv2d_74 (Conv2D)              (None, 16, 16, 128)  147584      batch_normalization_69[0][0]     \n",
      "__________________________________________________________________________________________________\n",
      "re_lu_67 (ReLU)                 (None, 16, 16, 128)  0           conv2d_74[0][0]                  \n",
      "__________________________________________________________________________________________________\n",
      "batch_normalization_70 (BatchNo (None, 16, 16, 128)  512         re_lu_67[0][0]                   \n",
      "__________________________________________________________________________________________________\n",
      "conv2d_75 (Conv2D)              (None, 16, 16, 128)  147584      batch_normalization_70[0][0]     \n",
      "__________________________________________________________________________________________________\n",
      "add_32 (Add)                    (None, 16, 16, 128)  0           batch_normalization_69[0][0]     \n",
      "                                                                 conv2d_75[0][0]                  \n",
      "__________________________________________________________________________________________________\n",
      "re_lu_68 (ReLU)                 (None, 16, 16, 128)  0           add_32[0][0]                     \n",
      "__________________________________________________________________________________________________\n",
      "batch_normalization_71 (BatchNo (None, 16, 16, 128)  512         re_lu_68[0][0]                   \n",
      "__________________________________________________________________________________________________\n",
      "conv2d_76 (Conv2D)              (None, 16, 16, 128)  147584      batch_normalization_71[0][0]     \n",
      "__________________________________________________________________________________________________\n",
      "re_lu_69 (ReLU)                 (None, 16, 16, 128)  0           conv2d_76[0][0]                  \n",
      "__________________________________________________________________________________________________\n",
      "batch_normalization_72 (BatchNo (None, 16, 16, 128)  512         re_lu_69[0][0]                   \n",
      "__________________________________________________________________________________________________\n",
      "conv2d_77 (Conv2D)              (None, 16, 16, 128)  147584      batch_normalization_72[0][0]     \n",
      "__________________________________________________________________________________________________\n",
      "add_33 (Add)                    (None, 16, 16, 128)  0           batch_normalization_71[0][0]     \n",
      "                                                                 conv2d_77[0][0]                  \n",
      "__________________________________________________________________________________________________\n",
      "re_lu_70 (ReLU)                 (None, 16, 16, 128)  0           add_33[0][0]                     \n",
      "__________________________________________________________________________________________________\n",
      "batch_normalization_73 (BatchNo (None, 16, 16, 128)  512         re_lu_70[0][0]                   \n",
      "__________________________________________________________________________________________________\n",
      "conv2d_78 (Conv2D)              (None, 16, 16, 128)  147584      batch_normalization_73[0][0]     \n",
      "__________________________________________________________________________________________________\n",
      "re_lu_71 (ReLU)                 (None, 16, 16, 128)  0           conv2d_78[0][0]                  \n",
      "__________________________________________________________________________________________________\n",
      "batch_normalization_74 (BatchNo (None, 16, 16, 128)  512         re_lu_71[0][0]                   \n",
      "__________________________________________________________________________________________________\n",
      "conv2d_79 (Conv2D)              (None, 16, 16, 128)  147584      batch_normalization_74[0][0]     \n",
      "__________________________________________________________________________________________________\n",
      "add_34 (Add)                    (None, 16, 16, 128)  0           batch_normalization_73[0][0]     \n",
      "                                                                 conv2d_79[0][0]                  \n",
      "__________________________________________________________________________________________________\n",
      "re_lu_72 (ReLU)                 (None, 16, 16, 128)  0           add_34[0][0]                     \n",
      "__________________________________________________________________________________________________\n",
      "batch_normalization_75 (BatchNo (None, 16, 16, 128)  512         re_lu_72[0][0]                   \n",
      "__________________________________________________________________________________________________\n",
      "conv2d_80 (Conv2D)              (None, 8, 8, 256)    295168      batch_normalization_75[0][0]     \n",
      "__________________________________________________________________________________________________\n",
      "re_lu_73 (ReLU)                 (None, 8, 8, 256)    0           conv2d_80[0][0]                  \n",
      "__________________________________________________________________________________________________\n",
      "batch_normalization_76 (BatchNo (None, 8, 8, 256)    1024        re_lu_73[0][0]                   \n",
      "__________________________________________________________________________________________________\n",
      "conv2d_82 (Conv2D)              (None, 8, 8, 256)    33024       batch_normalization_75[0][0]     \n",
      "__________________________________________________________________________________________________\n",
      "conv2d_81 (Conv2D)              (None, 8, 8, 256)    590080      batch_normalization_76[0][0]     \n",
      "__________________________________________________________________________________________________\n",
      "add_35 (Add)                    (None, 8, 8, 256)    0           conv2d_82[0][0]                  \n",
      "                                                                 conv2d_81[0][0]                  \n",
      "__________________________________________________________________________________________________\n",
      "re_lu_74 (ReLU)                 (None, 8, 8, 256)    0           add_35[0][0]                     \n",
      "__________________________________________________________________________________________________\n",
      "batch_normalization_77 (BatchNo (None, 8, 8, 256)    1024        re_lu_74[0][0]                   \n",
      "__________________________________________________________________________________________________\n",
      "conv2d_83 (Conv2D)              (None, 8, 8, 256)    590080      batch_normalization_77[0][0]     \n",
      "__________________________________________________________________________________________________\n",
      "re_lu_75 (ReLU)                 (None, 8, 8, 256)    0           conv2d_83[0][0]                  \n",
      "__________________________________________________________________________________________________\n",
      "batch_normalization_78 (BatchNo (None, 8, 8, 256)    1024        re_lu_75[0][0]                   \n",
      "__________________________________________________________________________________________________\n",
      "conv2d_84 (Conv2D)              (None, 8, 8, 256)    590080      batch_normalization_78[0][0]     \n",
      "__________________________________________________________________________________________________\n",
      "add_36 (Add)                    (None, 8, 8, 256)    0           batch_normalization_77[0][0]     \n",
      "                                                                 conv2d_84[0][0]                  \n",
      "__________________________________________________________________________________________________\n",
      "re_lu_76 (ReLU)                 (None, 8, 8, 256)    0           add_36[0][0]                     \n",
      "__________________________________________________________________________________________________\n",
      "batch_normalization_79 (BatchNo (None, 8, 8, 256)    1024        re_lu_76[0][0]                   \n",
      "__________________________________________________________________________________________________\n",
      "conv2d_85 (Conv2D)              (None, 8, 8, 256)    590080      batch_normalization_79[0][0]     \n",
      "__________________________________________________________________________________________________\n",
      "re_lu_77 (ReLU)                 (None, 8, 8, 256)    0           conv2d_85[0][0]                  \n",
      "__________________________________________________________________________________________________\n",
      "batch_normalization_80 (BatchNo (None, 8, 8, 256)    1024        re_lu_77[0][0]                   \n",
      "__________________________________________________________________________________________________\n",
      "conv2d_86 (Conv2D)              (None, 8, 8, 256)    590080      batch_normalization_80[0][0]     \n",
      "__________________________________________________________________________________________________\n",
      "add_37 (Add)                    (None, 8, 8, 256)    0           batch_normalization_79[0][0]     \n",
      "                                                                 conv2d_86[0][0]                  \n",
      "__________________________________________________________________________________________________\n",
      "re_lu_78 (ReLU)                 (None, 8, 8, 256)    0           add_37[0][0]                     \n",
      "__________________________________________________________________________________________________\n",
      "batch_normalization_81 (BatchNo (None, 8, 8, 256)    1024        re_lu_78[0][0]                   \n",
      "__________________________________________________________________________________________________\n",
      "conv2d_87 (Conv2D)              (None, 8, 8, 256)    590080      batch_normalization_81[0][0]     \n",
      "__________________________________________________________________________________________________\n",
      "re_lu_79 (ReLU)                 (None, 8, 8, 256)    0           conv2d_87[0][0]                  \n",
      "__________________________________________________________________________________________________\n",
      "batch_normalization_82 (BatchNo (None, 8, 8, 256)    1024        re_lu_79[0][0]                   \n",
      "__________________________________________________________________________________________________\n",
      "conv2d_88 (Conv2D)              (None, 8, 8, 256)    590080      batch_normalization_82[0][0]     \n",
      "__________________________________________________________________________________________________\n",
      "add_38 (Add)                    (None, 8, 8, 256)    0           batch_normalization_81[0][0]     \n",
      "                                                                 conv2d_88[0][0]                  \n",
      "__________________________________________________________________________________________________\n",
      "re_lu_80 (ReLU)                 (None, 8, 8, 256)    0           add_38[0][0]                     \n",
      "__________________________________________________________________________________________________\n",
      "batch_normalization_83 (BatchNo (None, 8, 8, 256)    1024        re_lu_80[0][0]                   \n",
      "__________________________________________________________________________________________________\n",
      "conv2d_89 (Conv2D)              (None, 8, 8, 256)    590080      batch_normalization_83[0][0]     \n",
      "__________________________________________________________________________________________________\n",
      "re_lu_81 (ReLU)                 (None, 8, 8, 256)    0           conv2d_89[0][0]                  \n",
      "__________________________________________________________________________________________________\n",
      "batch_normalization_84 (BatchNo (None, 8, 8, 256)    1024        re_lu_81[0][0]                   \n",
      "__________________________________________________________________________________________________\n",
      "conv2d_90 (Conv2D)              (None, 8, 8, 256)    590080      batch_normalization_84[0][0]     \n",
      "__________________________________________________________________________________________________\n",
      "add_39 (Add)                    (None, 8, 8, 256)    0           batch_normalization_83[0][0]     \n",
      "                                                                 conv2d_90[0][0]                  \n",
      "__________________________________________________________________________________________________\n",
      "re_lu_82 (ReLU)                 (None, 8, 8, 256)    0           add_39[0][0]                     \n",
      "__________________________________________________________________________________________________\n",
      "batch_normalization_85 (BatchNo (None, 8, 8, 256)    1024        re_lu_82[0][0]                   \n",
      "__________________________________________________________________________________________________\n",
      "conv2d_91 (Conv2D)              (None, 4, 4, 512)    1180160     batch_normalization_85[0][0]     \n",
      "__________________________________________________________________________________________________\n",
      "re_lu_83 (ReLU)                 (None, 4, 4, 512)    0           conv2d_91[0][0]                  \n",
      "__________________________________________________________________________________________________\n",
      "batch_normalization_86 (BatchNo (None, 4, 4, 512)    2048        re_lu_83[0][0]                   \n",
      "__________________________________________________________________________________________________\n",
      "conv2d_93 (Conv2D)              (None, 4, 4, 512)    131584      batch_normalization_85[0][0]     \n",
      "__________________________________________________________________________________________________\n",
      "conv2d_92 (Conv2D)              (None, 4, 4, 512)    2359808     batch_normalization_86[0][0]     \n",
      "__________________________________________________________________________________________________\n",
      "add_40 (Add)                    (None, 4, 4, 512)    0           conv2d_93[0][0]                  \n",
      "                                                                 conv2d_92[0][0]                  \n",
      "__________________________________________________________________________________________________\n",
      "re_lu_84 (ReLU)                 (None, 4, 4, 512)    0           add_40[0][0]                     \n",
      "__________________________________________________________________________________________________\n",
      "batch_normalization_87 (BatchNo (None, 4, 4, 512)    2048        re_lu_84[0][0]                   \n",
      "__________________________________________________________________________________________________\n",
      "conv2d_94 (Conv2D)              (None, 4, 4, 512)    2359808     batch_normalization_87[0][0]     \n",
      "__________________________________________________________________________________________________\n",
      "re_lu_85 (ReLU)                 (None, 4, 4, 512)    0           conv2d_94[0][0]                  \n",
      "__________________________________________________________________________________________________\n",
      "batch_normalization_88 (BatchNo (None, 4, 4, 512)    2048        re_lu_85[0][0]                   \n",
      "__________________________________________________________________________________________________\n",
      "conv2d_95 (Conv2D)              (None, 4, 4, 512)    2359808     batch_normalization_88[0][0]     \n",
      "__________________________________________________________________________________________________\n",
      "add_41 (Add)                    (None, 4, 4, 512)    0           batch_normalization_87[0][0]     \n",
      "                                                                 conv2d_95[0][0]                  \n",
      "__________________________________________________________________________________________________\n",
      "re_lu_86 (ReLU)                 (None, 4, 4, 512)    0           add_41[0][0]                     \n",
      "__________________________________________________________________________________________________\n",
      "batch_normalization_89 (BatchNo (None, 4, 4, 512)    2048        re_lu_86[0][0]                   \n",
      "__________________________________________________________________________________________________\n",
      "average_pooling2d_2 (AveragePoo (None, 1, 1, 512)    0           batch_normalization_89[0][0]     \n",
      "__________________________________________________________________________________________________\n",
      "flatten_2 (Flatten)             (None, 512)          0           average_pooling2d_2[0][0]        \n",
      "__________________________________________________________________________________________________\n",
      "dense_2 (Dense)                 (None, 10)           5130        flatten_2[0][0]                  \n",
      "==================================================================================================\n",
      "Total params: 15,619,990\n",
      "Trainable params: 15,607,568\n",
      "Non-trainable params: 12,422\n",
      "__________________________________________________________________________________________________\n"
     ]
    },
    {
     "name": "stdout",
     "output_type": "stream",
     "text": [
      "Epoch 1/20\n",
      "391/391 [==============================] - 49s 119ms/step - loss: 1.7605 - accuracy: 0.3768 - val_loss: 1.3197 - val_accuracy: 0.5579\n",
      "\n",
      "Epoch 00001: saving model to checkpoints/cifar-10_res_net_30-20210408-003831/cp-0001.ckpt\n",
      "INFO:tensorflow:Assets written to: checkpoints/cifar-10_res_net_30-20210408-003831/cp-0001.ckpt/assets\n"
     ]
    },
    {
     "name": "stderr",
     "output_type": "stream",
     "text": [
      "INFO:tensorflow:Assets written to: checkpoints/cifar-10_res_net_30-20210408-003831/cp-0001.ckpt/assets\n"
     ]
    },
    {
     "name": "stdout",
     "output_type": "stream",
     "text": [
      "Epoch 2/20\n",
      "391/391 [==============================] - 46s 116ms/step - loss: 1.0752 - accuracy: 0.6209 - val_loss: 1.3153 - val_accuracy: 0.6406\n",
      "\n",
      "Epoch 00002: saving model to checkpoints/cifar-10_res_net_30-20210408-003831/cp-0002.ckpt\n",
      "INFO:tensorflow:Assets written to: checkpoints/cifar-10_res_net_30-20210408-003831/cp-0002.ckpt/assets\n"
     ]
    },
    {
     "name": "stderr",
     "output_type": "stream",
     "text": [
      "INFO:tensorflow:Assets written to: checkpoints/cifar-10_res_net_30-20210408-003831/cp-0002.ckpt/assets\n"
     ]
    },
    {
     "name": "stdout",
     "output_type": "stream",
     "text": [
      "Epoch 3/20\n",
      "391/391 [==============================] - 46s 117ms/step - loss: 0.8309 - accuracy: 0.7123 - val_loss: 1.1253 - val_accuracy: 0.6671\n",
      "\n",
      "Epoch 00003: saving model to checkpoints/cifar-10_res_net_30-20210408-003831/cp-0003.ckpt\n",
      "INFO:tensorflow:Assets written to: checkpoints/cifar-10_res_net_30-20210408-003831/cp-0003.ckpt/assets\n"
     ]
    },
    {
     "name": "stderr",
     "output_type": "stream",
     "text": [
      "INFO:tensorflow:Assets written to: checkpoints/cifar-10_res_net_30-20210408-003831/cp-0003.ckpt/assets\n"
     ]
    },
    {
     "name": "stdout",
     "output_type": "stream",
     "text": [
      "Epoch 4/20\n",
      "391/391 [==============================] - 46s 117ms/step - loss: 0.6589 - accuracy: 0.7770 - val_loss: 0.7272 - val_accuracy: 0.7589\n",
      "\n",
      "Epoch 00004: saving model to checkpoints/cifar-10_res_net_30-20210408-003831/cp-0004.ckpt\n",
      "INFO:tensorflow:Assets written to: checkpoints/cifar-10_res_net_30-20210408-003831/cp-0004.ckpt/assets\n"
     ]
    },
    {
     "name": "stderr",
     "output_type": "stream",
     "text": [
      "INFO:tensorflow:Assets written to: checkpoints/cifar-10_res_net_30-20210408-003831/cp-0004.ckpt/assets\n"
     ]
    },
    {
     "name": "stdout",
     "output_type": "stream",
     "text": [
      "Epoch 5/20\n",
      "391/391 [==============================] - 46s 117ms/step - loss: 0.5361 - accuracy: 0.8202 - val_loss: 0.7160 - val_accuracy: 0.7707\n",
      "\n",
      "Epoch 00005: saving model to checkpoints/cifar-10_res_net_30-20210408-003831/cp-0005.ckpt\n",
      "INFO:tensorflow:Assets written to: checkpoints/cifar-10_res_net_30-20210408-003831/cp-0005.ckpt/assets\n"
     ]
    },
    {
     "name": "stderr",
     "output_type": "stream",
     "text": [
      "INFO:tensorflow:Assets written to: checkpoints/cifar-10_res_net_30-20210408-003831/cp-0005.ckpt/assets\n"
     ]
    },
    {
     "name": "stdout",
     "output_type": "stream",
     "text": [
      "Epoch 6/20\n",
      "391/391 [==============================] - 46s 117ms/step - loss: 0.4512 - accuracy: 0.8448 - val_loss: 1.3012 - val_accuracy: 0.7223\n",
      "\n",
      "Epoch 00006: saving model to checkpoints/cifar-10_res_net_30-20210408-003831/cp-0006.ckpt\n",
      "INFO:tensorflow:Assets written to: checkpoints/cifar-10_res_net_30-20210408-003831/cp-0006.ckpt/assets\n"
     ]
    },
    {
     "name": "stderr",
     "output_type": "stream",
     "text": [
      "INFO:tensorflow:Assets written to: checkpoints/cifar-10_res_net_30-20210408-003831/cp-0006.ckpt/assets\n"
     ]
    },
    {
     "name": "stdout",
     "output_type": "stream",
     "text": [
      "Epoch 7/20\n",
      "391/391 [==============================] - 46s 117ms/step - loss: 0.4071 - accuracy: 0.8610 - val_loss: 0.6485 - val_accuracy: 0.7897\n",
      "\n",
      "Epoch 00007: saving model to checkpoints/cifar-10_res_net_30-20210408-003831/cp-0007.ckpt\n",
      "INFO:tensorflow:Assets written to: checkpoints/cifar-10_res_net_30-20210408-003831/cp-0007.ckpt/assets\n"
     ]
    },
    {
     "name": "stderr",
     "output_type": "stream",
     "text": [
      "INFO:tensorflow:Assets written to: checkpoints/cifar-10_res_net_30-20210408-003831/cp-0007.ckpt/assets\n"
     ]
    },
    {
     "name": "stdout",
     "output_type": "stream",
     "text": [
      "Epoch 8/20\n",
      "391/391 [==============================] - 46s 117ms/step - loss: 0.3338 - accuracy: 0.8858 - val_loss: 0.6683 - val_accuracy: 0.7981\n",
      "\n",
      "Epoch 00008: saving model to checkpoints/cifar-10_res_net_30-20210408-003831/cp-0008.ckpt\n",
      "INFO:tensorflow:Assets written to: checkpoints/cifar-10_res_net_30-20210408-003831/cp-0008.ckpt/assets\n"
     ]
    },
    {
     "name": "stderr",
     "output_type": "stream",
     "text": [
      "INFO:tensorflow:Assets written to: checkpoints/cifar-10_res_net_30-20210408-003831/cp-0008.ckpt/assets\n"
     ]
    },
    {
     "name": "stdout",
     "output_type": "stream",
     "text": [
      "Epoch 9/20\n",
      "391/391 [==============================] - 46s 117ms/step - loss: 0.2719 - accuracy: 0.9071 - val_loss: 0.5356 - val_accuracy: 0.8290\n",
      "\n",
      "Epoch 00009: saving model to checkpoints/cifar-10_res_net_30-20210408-003831/cp-0009.ckpt\n",
      "INFO:tensorflow:Assets written to: checkpoints/cifar-10_res_net_30-20210408-003831/cp-0009.ckpt/assets\n"
     ]
    },
    {
     "name": "stderr",
     "output_type": "stream",
     "text": [
      "INFO:tensorflow:Assets written to: checkpoints/cifar-10_res_net_30-20210408-003831/cp-0009.ckpt/assets\n"
     ]
    },
    {
     "name": "stdout",
     "output_type": "stream",
     "text": [
      "Epoch 10/20\n",
      "391/391 [==============================] - 46s 117ms/step - loss: 0.2238 - accuracy: 0.9230 - val_loss: 0.5569 - val_accuracy: 0.8286\n",
      "\n",
      "Epoch 00010: saving model to checkpoints/cifar-10_res_net_30-20210408-003831/cp-0010.ckpt\n",
      "INFO:tensorflow:Assets written to: checkpoints/cifar-10_res_net_30-20210408-003831/cp-0010.ckpt/assets\n"
     ]
    },
    {
     "name": "stderr",
     "output_type": "stream",
     "text": [
      "INFO:tensorflow:Assets written to: checkpoints/cifar-10_res_net_30-20210408-003831/cp-0010.ckpt/assets\n"
     ]
    },
    {
     "name": "stdout",
     "output_type": "stream",
     "text": [
      "Epoch 11/20\n",
      "391/391 [==============================] - 46s 117ms/step - loss: 0.1937 - accuracy: 0.9343 - val_loss: 0.5563 - val_accuracy: 0.8356\n",
      "\n",
      "Epoch 00011: saving model to checkpoints/cifar-10_res_net_30-20210408-003831/cp-0011.ckpt\n",
      "INFO:tensorflow:Assets written to: checkpoints/cifar-10_res_net_30-20210408-003831/cp-0011.ckpt/assets\n"
     ]
    },
    {
     "name": "stderr",
     "output_type": "stream",
     "text": [
      "INFO:tensorflow:Assets written to: checkpoints/cifar-10_res_net_30-20210408-003831/cp-0011.ckpt/assets\n"
     ]
    },
    {
     "name": "stdout",
     "output_type": "stream",
     "text": [
      "Epoch 12/20\n",
      "391/391 [==============================] - 46s 117ms/step - loss: 0.1626 - accuracy: 0.9446 - val_loss: 0.4939 - val_accuracy: 0.8521\n",
      "\n",
      "Epoch 00012: saving model to checkpoints/cifar-10_res_net_30-20210408-003831/cp-0012.ckpt\n",
      "INFO:tensorflow:Assets written to: checkpoints/cifar-10_res_net_30-20210408-003831/cp-0012.ckpt/assets\n"
     ]
    },
    {
     "name": "stderr",
     "output_type": "stream",
     "text": [
      "INFO:tensorflow:Assets written to: checkpoints/cifar-10_res_net_30-20210408-003831/cp-0012.ckpt/assets\n"
     ]
    },
    {
     "name": "stdout",
     "output_type": "stream",
     "text": [
      "Epoch 13/20\n",
      "391/391 [==============================] - 46s 117ms/step - loss: 0.1253 - accuracy: 0.9579 - val_loss: 0.6192 - val_accuracy: 0.8285\n",
      "\n",
      "Epoch 00013: saving model to checkpoints/cifar-10_res_net_30-20210408-003831/cp-0013.ckpt\n",
      "INFO:tensorflow:Assets written to: checkpoints/cifar-10_res_net_30-20210408-003831/cp-0013.ckpt/assets\n"
     ]
    },
    {
     "name": "stderr",
     "output_type": "stream",
     "text": [
      "INFO:tensorflow:Assets written to: checkpoints/cifar-10_res_net_30-20210408-003831/cp-0013.ckpt/assets\n"
     ]
    },
    {
     "name": "stdout",
     "output_type": "stream",
     "text": [
      "Epoch 14/20\n",
      "391/391 [==============================] - 46s 117ms/step - loss: 0.1172 - accuracy: 0.9595 - val_loss: 0.6164 - val_accuracy: 0.8326\n",
      "\n",
      "Epoch 00014: saving model to checkpoints/cifar-10_res_net_30-20210408-003831/cp-0014.ckpt\n",
      "INFO:tensorflow:Assets written to: checkpoints/cifar-10_res_net_30-20210408-003831/cp-0014.ckpt/assets\n"
     ]
    },
    {
     "name": "stderr",
     "output_type": "stream",
     "text": [
      "INFO:tensorflow:Assets written to: checkpoints/cifar-10_res_net_30-20210408-003831/cp-0014.ckpt/assets\n"
     ]
    },
    {
     "name": "stdout",
     "output_type": "stream",
     "text": [
      "Epoch 15/20\n",
      "391/391 [==============================] - 46s 118ms/step - loss: 0.1207 - accuracy: 0.9577 - val_loss: 0.6122 - val_accuracy: 0.8391\n",
      "\n",
      "Epoch 00015: saving model to checkpoints/cifar-10_res_net_30-20210408-003831/cp-0015.ckpt\n",
      "INFO:tensorflow:Assets written to: checkpoints/cifar-10_res_net_30-20210408-003831/cp-0015.ckpt/assets\n"
     ]
    },
    {
     "name": "stderr",
     "output_type": "stream",
     "text": [
      "INFO:tensorflow:Assets written to: checkpoints/cifar-10_res_net_30-20210408-003831/cp-0015.ckpt/assets\n"
     ]
    },
    {
     "name": "stdout",
     "output_type": "stream",
     "text": [
      "Epoch 16/20\n",
      "391/391 [==============================] - 46s 118ms/step - loss: 0.0789 - accuracy: 0.9740 - val_loss: 0.6307 - val_accuracy: 0.8389\n",
      "\n",
      "Epoch 00016: saving model to checkpoints/cifar-10_res_net_30-20210408-003831/cp-0016.ckpt\n",
      "INFO:tensorflow:Assets written to: checkpoints/cifar-10_res_net_30-20210408-003831/cp-0016.ckpt/assets\n"
     ]
    },
    {
     "name": "stderr",
     "output_type": "stream",
     "text": [
      "INFO:tensorflow:Assets written to: checkpoints/cifar-10_res_net_30-20210408-003831/cp-0016.ckpt/assets\n"
     ]
    },
    {
     "name": "stdout",
     "output_type": "stream",
     "text": [
      "Epoch 17/20\n",
      "391/391 [==============================] - 46s 117ms/step - loss: 0.0717 - accuracy: 0.9759 - val_loss: 0.6599 - val_accuracy: 0.8376\n",
      "\n",
      "Epoch 00017: saving model to checkpoints/cifar-10_res_net_30-20210408-003831/cp-0017.ckpt\n",
      "INFO:tensorflow:Assets written to: checkpoints/cifar-10_res_net_30-20210408-003831/cp-0017.ckpt/assets\n"
     ]
    },
    {
     "name": "stderr",
     "output_type": "stream",
     "text": [
      "INFO:tensorflow:Assets written to: checkpoints/cifar-10_res_net_30-20210408-003831/cp-0017.ckpt/assets\n"
     ]
    },
    {
     "name": "stdout",
     "output_type": "stream",
     "text": [
      "Epoch 18/20\n",
      "391/391 [==============================] - 46s 117ms/step - loss: 0.0709 - accuracy: 0.9759 - val_loss: 0.6220 - val_accuracy: 0.8498\n",
      "\n",
      "Epoch 00018: saving model to checkpoints/cifar-10_res_net_30-20210408-003831/cp-0018.ckpt\n",
      "INFO:tensorflow:Assets written to: checkpoints/cifar-10_res_net_30-20210408-003831/cp-0018.ckpt/assets\n"
     ]
    },
    {
     "name": "stderr",
     "output_type": "stream",
     "text": [
      "INFO:tensorflow:Assets written to: checkpoints/cifar-10_res_net_30-20210408-003831/cp-0018.ckpt/assets\n"
     ]
    },
    {
     "name": "stdout",
     "output_type": "stream",
     "text": [
      "Epoch 19/20\n",
      "391/391 [==============================] - 46s 118ms/step - loss: 0.0617 - accuracy: 0.9796 - val_loss: 0.6610 - val_accuracy: 0.8419\n",
      "\n",
      "Epoch 00019: saving model to checkpoints/cifar-10_res_net_30-20210408-003831/cp-0019.ckpt\n",
      "INFO:tensorflow:Assets written to: checkpoints/cifar-10_res_net_30-20210408-003831/cp-0019.ckpt/assets\n"
     ]
    },
    {
     "name": "stderr",
     "output_type": "stream",
     "text": [
      "INFO:tensorflow:Assets written to: checkpoints/cifar-10_res_net_30-20210408-003831/cp-0019.ckpt/assets\n"
     ]
    },
    {
     "name": "stdout",
     "output_type": "stream",
     "text": [
      "Epoch 20/20\n",
      "391/391 [==============================] - 46s 118ms/step - loss: 0.0638 - accuracy: 0.9785 - val_loss: 0.6884 - val_accuracy: 0.8410\n",
      "\n",
      "Epoch 00020: saving model to checkpoints/cifar-10_res_net_30-20210408-003831/cp-0020.ckpt\n",
      "INFO:tensorflow:Assets written to: checkpoints/cifar-10_res_net_30-20210408-003831/cp-0020.ckpt/assets\n"
     ]
    },
    {
     "name": "stderr",
     "output_type": "stream",
     "text": [
      "INFO:tensorflow:Assets written to: checkpoints/cifar-10_res_net_30-20210408-003831/cp-0020.ckpt/assets\n"
     ]
    },
    {
     "ename": "KeyError",
     "evalue": "'acc'",
     "output_type": "error",
     "traceback": [
      "\u001b[0;31m---------------------------------------------------------------------------\u001b[0m",
      "\u001b[0;31mKeyError\u001b[0m                                  Traceback (most recent call last)",
      "\u001b[0;32m<ipython-input-19-fa81af1c7d46>\u001b[0m in \u001b[0;36m<module>\u001b[0;34m\u001b[0m\n\u001b[1;32m     36\u001b[0m )\n\u001b[1;32m     37\u001b[0m \u001b[0;34m\u001b[0m\u001b[0m\n\u001b[0;32m---> 38\u001b[0;31m \u001b[0mplt\u001b[0m\u001b[0;34m.\u001b[0m\u001b[0mplot\u001b[0m\u001b[0;34m(\u001b[0m\u001b[0mresults\u001b[0m\u001b[0;34m.\u001b[0m\u001b[0mhistory\u001b[0m\u001b[0;34m[\u001b[0m\u001b[0;34m'acc'\u001b[0m\u001b[0;34m]\u001b[0m\u001b[0;34m)\u001b[0m\u001b[0;34m\u001b[0m\u001b[0;34m\u001b[0m\u001b[0m\n\u001b[0m\u001b[1;32m     39\u001b[0m \u001b[0mplt\u001b[0m\u001b[0;34m.\u001b[0m\u001b[0mplot\u001b[0m\u001b[0;34m(\u001b[0m\u001b[0mresults\u001b[0m\u001b[0;34m.\u001b[0m\u001b[0mhistory\u001b[0m\u001b[0;34m[\u001b[0m\u001b[0;34m'val_acc'\u001b[0m\u001b[0;34m]\u001b[0m\u001b[0;34m)\u001b[0m\u001b[0;34m\u001b[0m\u001b[0;34m\u001b[0m\u001b[0m\n\u001b[1;32m     40\u001b[0m \u001b[0mplt\u001b[0m\u001b[0;34m.\u001b[0m\u001b[0mtitle\u001b[0m\u001b[0;34m(\u001b[0m\u001b[0;34m'model accuracy'\u001b[0m\u001b[0;34m)\u001b[0m\u001b[0;34m\u001b[0m\u001b[0;34m\u001b[0m\u001b[0m\n",
      "\u001b[0;31mKeyError\u001b[0m: 'acc'"
     ]
    }
   ],
   "source": [
    "from tensorflow.keras.datasets import cifar10\n",
    "from tensorflow.keras.callbacks import ModelCheckpoint, TensorBoard\n",
    "import datetime\n",
    "import os\n",
    "\n",
    "(x_train, y_train), (x_test, y_test) = cifar10.load_data()\n",
    "\n",
    "model = create_res_net() # or create_plain_net()\n",
    "model.summary()\n",
    "\n",
    "timestr = datetime.datetime.now().strftime(\"%Y%m%d-%H%M%S\")\n",
    "name = 'cifar-10_res_net_30-'+timestr # or 'cifar-10_plain_net_30-'+timestr\n",
    "\n",
    "checkpoint_path = \"checkpoints/\"+name+\"/cp-{epoch:04d}.ckpt\"\n",
    "checkpoint_dir = os.path.dirname(checkpoint_path)\n",
    "os.system('mkdir {}'.format(checkpoint_dir))\n",
    "\n",
    "# save model after each epoch\n",
    "cp_callback = ModelCheckpoint(\n",
    "    filepath=checkpoint_path,\n",
    "    verbose=1\n",
    ")\n",
    "tensorboard_callback = TensorBoard(\n",
    "    log_dir='tensorboard_logs/'+name,\n",
    "    histogram_freq=1\n",
    ")\n",
    "\n",
    "results= model.fit(\n",
    "    x=x_train,\n",
    "    y=y_train,\n",
    "    epochs=20,\n",
    "    verbose=1,\n",
    "    validation_data=(x_test, y_test),\n",
    "    batch_size=128,\n",
    "    callbacks=[cp_callback, tensorboard_callback]\n",
    ")\n",
    "\n"
   ]
  },
  {
   "cell_type": "code",
   "execution_count": 23,
   "id": "black-generator",
   "metadata": {},
   "outputs": [
    {
     "data": {
      "image/png": "[encoded data removed]",
      "text/plain": [
       "<Figure size 432x288 with 1 Axes>"
      ]
     },
     "metadata": {
      "needs_background": "light"
     },
     "output_type": "display_data"
    },
    {
     "data": {
      "image/png": "[encoded data removed]",
      "text/plain": [
       "<Figure size 432x288 with 1 Axes>"
      ]
     },
     "metadata": {
      "needs_background": "light"
     },
     "output_type": "display_data"
    }
   ],
   "source": [
    "plt.plot(results.history['accuracy'])\n",
    "plt.plot(results.history['val_accuracy'])\n",
    "plt.title('model accuracy')\n",
    "plt.ylabel('accuracy')\n",
    "plt.xlabel('epoch')\n",
    "plt.legend(['train', 'test'], loc='upper left')\n",
    "plt.show()\n",
    "# summarize history for loss\n",
    "plt.plot(results.history['loss'])\n",
    "plt.plot(results.history['val_loss'])\n",
    "plt.title('model loss')\n",
    "plt.ylabel('loss')\n",
    "plt.xlabel('epoch')\n",
    "plt.legend(['train', 'test'], loc='upper left')\n",
    "plt.show()"
   ]
  }
 ],
 "metadata": {
  "kernelspec": {
   "display_name": "aiffel",
   "language": "python",
   "name": "aiffel"
  },
  "language_info": {
   "codemirror_mode": {
    "name": "ipython",
    "version": 3
   },
   "file_extension": ".py",
   "mimetype": "text/x-python",
   "name": "python",
   "nbconvert_exporter": "python",
   "pygments_lexer": "ipython3",
   "version": "3.7.10"
  }
 },
 "nbformat": 4,
 "nbformat_minor": 5
}
