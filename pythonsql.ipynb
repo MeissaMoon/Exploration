{
 "cells": [
  {
   "cell_type": "markdown",
   "id": "advisory-twenty",
   "metadata": {},
   "source": [
    "### 파이썬으로 DB 다루기\n",
    "---\n",
    "\n",
    "### Python DB API\n",
    "- mkdir -p ~/aiffel/sql_to_db/sqlite"
   ]
  },
  {
   "cell_type": "code",
   "execution_count": 1,
   "id": "played-romance",
   "metadata": {},
   "outputs": [
    {
     "name": "stdout",
     "output_type": "stream",
     "text": [
      "뿅💛\n"
     ]
    }
   ],
   "source": [
    "import sqlite3\n",
    "print(\"뿅💛\")"
   ]
  },
  {
   "cell_type": "code",
   "execution_count": 2,
   "id": "historical-large",
   "metadata": {},
   "outputs": [
    {
     "name": "stdout",
     "output_type": "stream",
     "text": [
      "<sqlite3.Connection object at 0x7f7d184a3490>\n"
     ]
    }
   ],
   "source": [
    "import os\n",
    "db_path = os.getenv('HOME')+'/aiffel/sql_to_db/sqlite/mydb.db'\n",
    "conn = sqlite3.connect(db_path)  # mydb.db에 연결\n",
    "print(conn)"
   ]
  },
  {
   "cell_type": "code",
   "execution_count": 3,
   "id": "green-hearing",
   "metadata": {},
   "outputs": [
    {
     "name": "stdout",
     "output_type": "stream",
     "text": [
      "<sqlite3.Cursor object at 0x7f7d184832d0>\n"
     ]
    }
   ],
   "source": [
    "# 결과를 조회하는 SELECT에서는 거의 필수 cursor\n",
    "c = conn.cursor()\n",
    "print(c)"
   ]
  },
  {
   "cell_type": "code",
   "execution_count": 4,
   "id": "palestinian-class",
   "metadata": {},
   "outputs": [
    {
     "name": "stdout",
     "output_type": "stream",
     "text": [
      "('20200701', 'TEST', 'AIFFEL', 1.0, 10000.0)\n"
     ]
    }
   ],
   "source": [
    "# stocks이라는 이름의 테이블을 하나 생성합니다. 혹시 이미 생성되었다면 생략합니다. \n",
    "c.execute(\"CREATE TABLE  IF NOT EXISTS  stocks (date text, trans text, symbol text, qty real, price real)\")\n",
    "\n",
    "# stocks 테이블에 데이터를 하나 인서트합니다. \n",
    "c.execute(\"INSERT INTO stocks VALUES ('20200701', 'TEST', 'AIFFEL', 1, 10000)\")\n",
    "\n",
    "# 방금 인서트한 데이터를 조회해 봅니다.\n",
    "c.execute(\"SELECT * FROM stocks\")\n",
    "\n",
    "# 조회된 내역을 커서를 통해 가져와 출력해 봅니다.\n",
    "print(c.fetchone())"
   ]
  },
  {
   "cell_type": "markdown",
   "id": "saved-theta",
   "metadata": {},
   "source": [
    "### sqlite DB Browser\n",
    "- sudo add-apt-repository -y ppa:linuxgndu/sqlitebrowser\n",
    "- sudo apt-get update\n",
    "- sudo apt-get install sqlitebrowser"
   ]
  },
  {
   "cell_type": "code",
   "execution_count": 5,
   "id": "breathing-bread",
   "metadata": {},
   "outputs": [
    {
     "name": "stdout",
     "output_type": "stream",
     "text": [
      "뿅💛\n"
     ]
    }
   ],
   "source": [
    "conn.commit()   # commit()은 cursor의 메소드가 아니라 connection의 메소드입니다. \n",
    "print(\"뿅💛\")"
   ]
  },
  {
   "cell_type": "code",
   "execution_count": 6,
   "id": "conceptual-bible",
   "metadata": {},
   "outputs": [
    {
     "name": "stdout",
     "output_type": "stream",
     "text": [
      "뿅💛\n"
     ]
    }
   ],
   "source": [
    "c.close()      # 먼저 커서를 닫은 후\n",
    "conn.close()    # DB 연결을 닫아 줍니다.\n",
    "print(\"뿅💛\")"
   ]
  },
  {
   "cell_type": "markdown",
   "id": "welsh-yeast",
   "metadata": {},
   "source": [
    "### DDL문으로 테이블 생성하기"
   ]
  },
  {
   "cell_type": "code",
   "execution_count": 7,
   "id": "respiratory-valentine",
   "metadata": {},
   "outputs": [
    {
     "name": "stdout",
     "output_type": "stream",
     "text": [
      "뿅💛\n"
     ]
    }
   ],
   "source": [
    "import sqlite3\n",
    "import os\n",
    "db_path = os.getenv('HOME')+'/aiffel/sql_to_db/sqlite/mydb.db'\n",
    "\n",
    "conn = sqlite3.connect(db_path)\n",
    "c = conn.cursor()\n",
    "\n",
    "#- ! 재실행 시 테이블이 존재할 수 있으므로 아래처럼 해당 테이블들을 모두 지워줍니다.\n",
    "c.execute(\"DROP TABLE IF EXISTS 도서대출내역\")\n",
    "c.execute(\"DROP TABLE IF EXISTS 도서대출내역2\")\n",
    "c.execute(\"DROP TABLE IF EXISTS 대출내역\")\n",
    "c.execute(\"DROP TABLE IF EXISTS 도서명\")\n",
    "\n",
    "\n",
    "#----- 1st table : 도서대출내역 -----#\n",
    "c.execute(\"CREATE TABLE IF NOT EXISTS 도서대출내역 (ID varchar, 이름 varchar, 도서ID varchar, 대출일 varchar, 반납일 varchar)\")\n",
    "#- 생성(create)문 : 테이블명, 변수명, 변수타입을 지정\n",
    "\n",
    "data = [('101','문강태','aaa','2020-06-01','2020-06-05'),\n",
    "             ('101','문강태','ccc','2020-06-20','2020-06-25'),\n",
    "             ('102','고문영','bbb','2020-06-01',None),\n",
    "             ('102','고문영','ddd','2020-06-08',None),\n",
    "             ('103','문상태','ccc','2020-06-01','2020-06-05'),\n",
    "             ('104','강기둥',None,None,None)]\n",
    "#- 입력할 데이터를 그대로 입력 (변수명 순서 기준대로)\n",
    "\n",
    "c.executemany('INSERT INTO 도서대출내역 VALUES (?,?,?,?,?)', data)\n",
    "#- 입력할 데이터를 실제 테이블에 insert하기\n",
    "#-----------------------------------------------#\n",
    "\n",
    "\n",
    "#----- 2nd table : 도서대출내역2 -----#\n",
    "c.execute(\"CREATE TABLE IF NOT EXISTS 도서대출내역2 (ID varchar, 이름 varchar, 대출년월 varchar, 대출일수 varchar)\")\n",
    "\n",
    "data = [('101','문강태','2020-06','20일'),\n",
    "             ('102','고문영','2020-06','10일'),\n",
    "             ('103','문상태','2020-06','8일'),\n",
    "             ('104','강기둥','2020-06','3일')]\n",
    "c.executemany('INSERT INTO 도서대출내역2 VALUES (?,?,?,?)', data)\n",
    "#--------------------------------------------------#\n",
    "\n",
    "\n",
    "#----- 3rd table : 대출내역 -----#\n",
    "c.execute(\"CREATE TABLE IF NOT EXISTS 대출내역 (ID varchar, 이름 varchar, 도서ID varchar)\")\n",
    "\n",
    "data = [('101','문강태','aaa'),\n",
    "             ('102','고문영','bbb'),\n",
    "             ('102','고문영','fff'),\n",
    "             ('103','문상태','ccc'),\n",
    "             ('104','강기둥',None)]\n",
    "c.executemany('INSERT INTO 대출내역 VALUES (?,?,?)', data)\n",
    "#-----------------------------------------#\n",
    "\n",
    "\n",
    "#----- 4th table : 도서명 -----#\n",
    "c.execute(\"CREATE TABLE IF NOT EXISTS 도서명 (도서ID varchar, 도서명 varchar)\")\n",
    "\n",
    "data = [('aaa','악몽을 먹고 자란 소년'),\n",
    "             ('bbb','좀비아이'),\n",
    "             ('ccc','공룡백과사전'),\n",
    "             ('ddd','빨간구두'),\n",
    "             ('eee','잠자는 숲속의 미녀')]\n",
    "\n",
    "c.executemany('INSERT INTO 도서명 VALUES (?,?)', data)\n",
    "#--------------------------------------#\n",
    "\n",
    "conn.commit()\n",
    "conn.close()\n",
    "print(\"뿅💛\")"
   ]
  },
  {
   "cell_type": "code",
   "execution_count": 8,
   "id": "damaged-circus",
   "metadata": {},
   "outputs": [
    {
     "name": "stdout",
     "output_type": "stream",
     "text": [
      "('aaa', '악몽을 먹고 자란 소년')\n",
      "('bbb', '좀비아이')\n",
      "('ccc', '공룡백과사전')\n",
      "('ddd', '빨간구두')\n",
      "('eee', '잠자는 숲속의 미녀')\n"
     ]
    }
   ],
   "source": [
    "conn = sqlite3.connect(db_path)\n",
    "c = conn.cursor()\n",
    "\n",
    "for row in c.execute('SELECT * FROM 도서명'):\n",
    "  print(row)"
   ]
  },
  {
   "cell_type": "markdown",
   "id": "spoken-recipe",
   "metadata": {},
   "source": [
    "### 쿼리의 기본 구조\n",
    "- SELECT ~ : 조회할 컬럼명을 선택\n",
    "- FROM ~ : 조회할 테이블명을 지정 (위치와 테이블명을 입력)\n",
    "- WHERE ~ : 질의할 때 필요한 조건을 설정\n",
    "- GROUP BY ~ : 특정 컬럼을 기준으로 그룹을 지어 출력\n",
    "- ORDER BY ~ : SELECT 다음에 오는 컬럼 중 정렬이 필요한 부분을 정렬 (기본 설정 : 오름차순)\n",
    "- LIMIT 숫자 : Display하고자 하는 행의 수를 설정\n",
    "- DISTICT 컬럼명 : 중복 제거\n",
    "- ORDER BY 컬럼 : 차순으로 정렬(기본 asc 오름차순)\n",
    "![정렬](https://aiffelstaticprd.blob.core.windows.net/media/images/Untitled_15_2gRlUx0.max-800x600.png)"
   ]
  },
  {
   "cell_type": "code",
   "execution_count": 9,
   "id": "competitive-depression",
   "metadata": {},
   "outputs": [
    {
     "name": "stdout",
     "output_type": "stream",
     "text": [
      "('101', '문강태', 'aaa', '2020-06-01', '2020-06-05')\n",
      "('101', '문강태', 'ccc', '2020-06-20', '2020-06-25')\n",
      "('102', '고문영', 'bbb', '2020-06-01', None)\n",
      "('102', '고문영', 'ddd', '2020-06-08', None)\n",
      "('103', '문상태', 'ccc', '2020-06-01', '2020-06-05')\n",
      "('104', '강기둥', None, None, None)\n"
     ]
    }
   ],
   "source": [
    "#- c.execute() 괄호 안에 SQL문을 넣으시면 됩니다.\n",
    "\n",
    "import os\n",
    "db_path = os.getenv('HOME')+'/aiffel/sql_to_db/sqlite/mydb.db'\n",
    "conn = sqlite3.connect(db_path)  # mydb.db에 연결합니다.\n",
    "c = conn.cursor()\n",
    "\n",
    "for row in c.execute('SELECT * FROM 도서대출내역'):\n",
    "  print(row)\n",
    "\n",
    "#- ! 출력 시 'NULL' 대신 'None'으로 출력될 수 있으나 동일하게 이해하시면 됩니다."
   ]
  },
  {
   "cell_type": "code",
   "execution_count": 10,
   "id": "generous-reply",
   "metadata": {},
   "outputs": [
    {
     "name": "stdout",
     "output_type": "stream",
     "text": [
      "(0, 'ID', 'varchar', 0, None, 0)\n",
      "(1, '이름', 'varchar', 0, None, 0)\n",
      "(2, '도서ID', 'varchar', 0, None, 0)\n",
      "(3, '대출일', 'varchar', 0, None, 0)\n",
      "(4, '반납일', 'varchar', 0, None, 0)\n"
     ]
    }
   ],
   "source": [
    "# pragma table_info로 데이터타입 확인 \n",
    "import os\n",
    "db_path = os.getenv('HOME')+'/aiffel/sql_to_db/sqlite/mydb.db'\n",
    "conn = sqlite3.connect(db_path)  # mydb.db에 연결합니다.\n",
    "c = conn.cursor()\n",
    "\n",
    "for row in c.execute('pragma table_info(도서대출내역)'):\n",
    "  print(row)"
   ]
  },
  {
   "cell_type": "markdown",
   "id": "rental-maryland",
   "metadata": {},
   "source": [
    "#### - substr을 통해 일을 뺀 나머지를 추출   \n",
    "SELECT *, SUBSTR(대출일수, 1, (length(대출일수)-1)) AS 대출일수_수정 FROM 도서대출내역2;   \n",
    "#### - 추출한 일수를 int값으로 데이터타입 변경  \n",
    "SELECT *, CAST(SUBSTR(대출일수, 1, (length(대출일수)-1)) AS INT) AS 대출일수_수정 FROM 도서대출내역2 ;\n",
    "#### - 다양한 조건을 줄 수 있음\n",
    "SELECT * FROM 도서대출내역2 WHERE \n",
    "        조건1 \n",
    "AND 조건2 \n",
    "AND 조건3 \n",
    "AND (조건 4 OR 조건5);"
   ]
  },
  {
   "cell_type": "markdown",
   "id": "opened-decline",
   "metadata": {},
   "source": [
    "#### 1. 특정 문자를 포함하는 row를 가져오고 싶을 때\n",
    "SELECT * FROM 도서대출내역2 \n",
    "WHERE 이름 LIKE \"문%\" ;\n",
    "#### 2. 특정 기간 혹은 특정 날짜의 이전 또는 이후의 row를 가져오고 싶을 때\n",
    "SELECT * FROM 도서대출내역\n",
    "WHERE \n",
    "        대출일 >= \"2020-06-01\" \n",
    "AND 대출일 <= \"2020-06-07\" ;\n",
    "   \n",
    "SELECT * FROM 도서대출내역\n",
    "WHERE \n",
    "        대출일 BETWEEN \"2020-06-01\" AND \"2020-06-07\" ;\n",
    "        \n",
    "   SELECT *\n",
    ", CAST(SUBSTR(대출일수, 1, (length(대출일수)-1)) AS INT) AS 대출일수_수정 \n",
    "FROM 도서대출내역2 \n",
    "WHERE \n",
    "        대출일수_수정 > 5 ;\n",
    "#### 3. Null 조건 다루기\n",
    "SELECT * FROM 도서대출내역\n",
    "WHERE 반납일 IS NOT NULL;"
   ]
  },
  {
   "cell_type": "markdown",
   "id": "rental-domain",
   "metadata": {},
   "source": [
    "### JOIN\n",
    "![join](https://aiffelstaticprd.blob.core.windows.net/media/images/Untitled_21_ns7QjSV.max-800x600.png)"
   ]
  },
  {
   "cell_type": "markdown",
   "id": "aware-earth",
   "metadata": {},
   "source": [
    "- INNER JOIN : A 테이블과 B 테이블의 교집합을 조회\n",
    "- LEFT JOIN : (기준은 A 테이블) A 테이블을 기준으로 해서 B 테이블은 공통되는 부분만 조회\n",
    "- RIGHT JOIN : (기준은 B 테이블) B 테이블을 기준으로 해서 A 테이블은 공통되는 부분만 조회\n",
    "- FULL JOIN : A 테이블과 B 테이블 모두에서 빠트리는 부분 없이 모두 조회"
   ]
  },
  {
   "cell_type": "markdown",
   "id": "higher-madness",
   "metadata": {},
   "source": [
    "#### JOIN 기본 구문\n",
    "SELECT 컬럼1, 컬럼2, 컬럼3... FROM A테이블 AS A\n",
    "{INNER/LEFT/RIGHT/FULL OUTER} JOIN B테이블 AS B \n",
    "ON A.결합컬럼 = B.결합컬럼\n",
    "WHERE ~"
   ]
  },
  {
   "cell_type": "markdown",
   "id": "heated-indication",
   "metadata": {},
   "source": [
    "1) INNER JOIN   \n",
    "SELECT A.*, B.도서명 \n",
    "FROM 대출내역 AS A \n",
    "INNER JOIN 도서명 AS B\n",
    "ON A.도서ID = B.도서ID\n",
    "![inner](https://aiffelstaticprd.blob.core.windows.net/media/original_images/Untitled_24_cM7OvJd.png)"
   ]
  },
  {
   "cell_type": "markdown",
   "id": "sporting-turner",
   "metadata": {},
   "source": [
    "2) LEFT JOIN   \n",
    "SELECT A.*, B.도서명 \n",
    "FROM 대출내역 AS A \n",
    "LEFT JOIN 도서명 AS B\n",
    "ON A.도서ID = B.도서ID\n",
    "![left](https://aiffelstaticprd.blob.core.windows.net/media/original_images/Untitled_25_VizrJfJ.png)"
   ]
  },
  {
   "cell_type": "markdown",
   "id": "proprietary-wilson",
   "metadata": {},
   "source": [
    "3) RIGHT JOIN   \n",
    "SELECT B.*, A.ID, A.이름 \n",
    "FROM 대출내역 AS A \n",
    "RIGHT JOIN 도서명 AS B\n",
    "ON A.도서ID = B.도서ID\n",
    "![right](https://aiffelstaticprd.blob.core.windows.net/media/original_images/Untitled_26_SpMa9st.png)"
   ]
  },
  {
   "cell_type": "markdown",
   "id": "circular-closing",
   "metadata": {},
   "source": [
    "4) FULL OUTER JOIN   \n",
    "SELECT A.*, B.도서명 \n",
    "FROM 대출내역 AS A \n",
    "FULL OUTER JOIN 도서명 AS B\n",
    "ON A.도서ID = B.도서ID\n",
    "ORDER BY 도서ID ;\n",
    "![Full](https://aiffelstaticprd.blob.core.windows.net/media/original_images/Untitled_27_2Y2zQ6V.png)"
   ]
  },
  {
   "cell_type": "markdown",
   "id": "gorgeous-format",
   "metadata": {},
   "source": [
    "5) 중첩 질의(Nested Query)   \n",
    "SELECT C.이름, COUNT(*) 대출건수   \n",
    "FROM (\n",
    "    SELECT A.*, B.도서명 \n",
    "    FROM 대출내역 AS A \n",
    "    LEFT JOIN 도서명 AS B\n",
    "    ON A.도서ID = B.도서ID ) C\n",
    "GROUP BY C.이름\n"
   ]
  },
  {
   "cell_type": "markdown",
   "id": "deluxe-premium",
   "metadata": {},
   "source": [
    "6) 쿼리의 조건절 IFNULL - 값1이 Null이면 값2   \n",
    "SELECT A.*, IFNULL(B.도서명, '도서명미상') AS 도서명\n",
    "    FROM 대출내역 AS A \n",
    "    LEFT JOIN 도서명 AS B\n",
    "    ON A.도서ID = B.도서ID"
   ]
  },
  {
   "cell_type": "markdown",
   "id": "occupational-eating",
   "metadata": {},
   "source": [
    "7) 쿼리의 조건절 CASE   \n",
    "SELECT 이름, CASE WHEN 대출일수_수정 > 5 THEN '기간초과' ELSE '기간내' END AS 대출기간   \n",
    "FROM (SELECT *, CAST(SUBSTR(대출일수, 1, (length(대출일수)-1)) AS INT) AS 대출일수_수정 \n",
    "FROM 도서대출내역2 )"
   ]
  },
  {
   "cell_type": "markdown",
   "id": "arctic-gauge",
   "metadata": {},
   "source": [
    "#### Q5. '도서명' 테이블과 '도서대출내역' 테이블을 도서ID를 key로 하여 LEFT  JOIN해서 |도서ID|도서명|대출건수|대출상태| 항목을 출력하는 쿼리를 작성\n",
    "\n",
    "\n",
    "\n",
    "대출건수 : 도서별로 도서대출내역 테이블에 대출일자가 있으면 대출건수 1로 본다. 여러 번 대출되었으면 대출된 회수만큼 합산된다. \n",
    "\n",
    "대출상태 : 대출일자는 NOT NULL인데 반납일자가 NULL인 도서대출내역이 있으면 '대출중', 그렇지 않고 모든 대출내역에 반납일자가 명시되어 있으면  '보관중'으로 본다."
   ]
  },
  {
   "cell_type": "markdown",
   "id": "downtown-scope",
   "metadata": {},
   "source": [
    "SELECT C.도서ID, C.도서명, SUM(C.대출건수) AS 대출건수, \n",
    " CASE SUM(C.대출건수)-SUM(C.반납건수) WHEN 0 THEN '보관중' ELSE '대출중' END AS 대출상태   \n",
    "FROM (\n",
    "    SELECT A.도서ID, A.도서명, \n",
    "     CASE WHEN B.대출일 IS NULL THEN 0 ELSE 1 END AS 대출건수,\n",
    "     CASE WHEN B.반납일 IS NULL THEN 0 ELSE 1 END AS 반납건수\n",
    "    FROM 도서명 AS A \n",
    "    LEFT JOIN 도서대출내역 AS B\n",
    "    ON A.도서ID = B.도서ID ) AS C   \n",
    "GROUP BY C.도서ID, C.도서명 ;"
   ]
  }
 ],
 "metadata": {
  "kernelspec": {
   "display_name": "aiffel",
   "language": "python",
   "name": "aiffel"
  },
  "language_info": {
   "codemirror_mode": {
    "name": "ipython",
    "version": 3
   },
   "file_extension": ".py",
   "mimetype": "text/x-python",
   "name": "python",
   "nbconvert_exporter": "python",
   "pygments_lexer": "ipython3",
   "version": "3.7.9"
  }
 },
 "nbformat": 4,
 "nbformat_minor": 5
}
