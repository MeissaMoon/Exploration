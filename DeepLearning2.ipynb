{
 "cells": [
  {
   "cell_type": "markdown",
   "id": "noble-enlargement",
   "metadata": {},
   "source": [
    "### Linear 레이어"
   ]
  },
  {
   "cell_type": "markdown",
   "id": "meaningful-humor",
   "metadata": {},
   "source": [
    "![리니어1](https://aiffelstaticprd.blob.core.windows.net/media/images/F-24-6.max-800x600.png)\n"
   ]
  },
  {
   "cell_type": "code",
   "execution_count": 1,
   "id": "infectious-alexander",
   "metadata": {},
   "outputs": [
    {
     "name": "stdout",
     "output_type": "stream",
     "text": [
      "1단계 연산 준비: (64, 4, 2)\n",
      "1단계 연산 결과: (64, 4)\n",
      "1단계 Linear Layer의 Weight 형태: (2, 1)\n",
      "\n",
      "2단계 연산 준비: (64, 4)\n",
      "2단계 연산 결과: (64,)\n",
      "2단계 Linear Layer의 Weight 형태: (4, 1)\n"
     ]
    }
   ],
   "source": [
    "import tensorflow as tf\n",
    "\n",
    "batch_size = 64\n",
    "boxes = tf.zeros((batch_size, 4, 2))     # Tensorflow는 Batch를 기반으로 동작하기에,\n",
    "                                         # 우리는 사각형 2개 세트를 batch_size개만큼\n",
    "                                         # 만든 후 처리를 하게 됩니다.\n",
    "print(\"1단계 연산 준비:\", boxes.shape)\n",
    "\n",
    "first_linear = tf.keras.layers.Dense(units=1, use_bias=False) \n",
    "# units은 출력 차원 수를 의미합니다.\n",
    "# Weight 행렬 속 실수를 인간의 뇌 속 하나의 뉴런 '유닛' 취급을 하는 거죠!\n",
    "\n",
    "first_out = first_linear(boxes)\n",
    "first_out = tf.squeeze(first_out, axis=-1) # (4, 1)을 (4,)로 변환해줍니다.\n",
    "                                           # (불필요한 차원 축소)\n",
    "\n",
    "print(\"1단계 연산 결과:\", first_out.shape)\n",
    "print(\"1단계 Linear Layer의 Weight 형태:\", first_linear.weights[0].shape)\n",
    "\n",
    "print(\"\\n2단계 연산 준비:\", first_out.shape)\n",
    "\n",
    "second_linear = tf.keras.layers.Dense(units=1, use_bias=False)\n",
    "second_out = second_linear(first_out)\n",
    "second_out = tf.squeeze(second_out, axis=-1)\n",
    "\n",
    "print(\"2단계 연산 결과:\", second_out.shape)\n",
    "print(\"2단계 Linear Layer의 Weight 형태:\", second_linear.weights[0].shape)"
   ]
  },
  {
   "cell_type": "markdown",
   "id": "incorporated-scout",
   "metadata": {},
   "source": [
    "![리니어2](https://aiffelstaticprd.blob.core.windows.net/media/images/F-24-7.max-800x600.png)\n",
    "- #### 1차원으로 줄여 데이터를 집약시켰다"
   ]
  },
  {
   "cell_type": "markdown",
   "id": "regulation-civilization",
   "metadata": {},
   "source": [
    "![리니어3](https://aiffelstaticprd.blob.core.windows.net/media/images/F-24-8.max-800x600.png)\n",
    "- #### 각 사각형에 대해 독립적인 정보가 생겨나면서 데이터가 풍부해졌다."
   ]
  },
  {
   "cell_type": "code",
   "execution_count": 2,
   "id": "absolute-subscription",
   "metadata": {},
   "outputs": [
    {
     "name": "stdout",
     "output_type": "stream",
     "text": [
      "1단계 연산 준비: (64, 4, 2)\n",
      "1단계 연산 결과: (64, 4, 3)\n",
      "1단계 Linear Layer의 Weight 형태: (2, 3)\n",
      "\n",
      "2단계 연산 준비: (64, 4, 3)\n",
      "2단계 연산 결과: (64, 4)\n",
      "2단계 Linear Layer의 Weight 형태: (3, 1)\n",
      "\n",
      "3단계 연산 준비: (64, 4)\n",
      "3단계 연산 결과: (64,)\n",
      "3단계 Linear Layer의 Weight 형태: (4, 1)\n",
      "총 Parameters: 13\n"
     ]
    }
   ],
   "source": [
    "import tensorflow as tf\n",
    "\n",
    "batch_size = 64\n",
    "boxes = tf.zeros((batch_size, 4, 2))\n",
    "\n",
    "print(\"1단계 연산 준비:\", boxes.shape)\n",
    "\n",
    "########\n",
    "# Step 1: (4,2)차원인 boxes를 (4,3)으로 확장시키는 Linear Layer를 활용하세요.\n",
    "first_linear = tf.keras.layers.Dense(units=3, use_bias=False) \n",
    "first_out = first_linear(boxes)\n",
    "\n",
    "########\n",
    "\n",
    "print(\"1단계 연산 결과:\", first_out.shape)\n",
    "print(\"1단계 Linear Layer의 Weight 형태:\", first_linear.weights[0].shape)\n",
    "\n",
    "print(\"\\n2단계 연산 준비:\", first_out.shape)\n",
    "\n",
    "# Dense = Linear\n",
    "second_linear = tf.keras.layers.Dense(units=1, use_bias=False)\n",
    "second_out = second_linear(first_out)\n",
    "second_out = tf.squeeze(second_out, axis=-1)\n",
    "\n",
    "print(\"2단계 연산 결과:\", second_out.shape)\n",
    "print(\"2단계 Linear Layer의 Weight 형태:\", second_linear.weights[0].shape)\n",
    "\n",
    "print(\"\\n3단계 연산 준비:\", second_out.shape)\n",
    "\n",
    "########\n",
    "# Step 2: 4차원인 second_out을 하나의 실수으로 집약시키는 Linear Layer를 활용하세요.\n",
    "third_linear = tf.keras.layers.Dense(units=1, use_bias=False)\n",
    "third_out = third_linear(second_out)\n",
    "third_out = tf.squeeze(third_out, axis=-1)\n",
    "\n",
    "########\n",
    "\n",
    "print(\"3단계 연산 결과:\", third_out.shape)\n",
    "print(\"3단계 Linear Layer의 Weight 형태:\", third_linear.weights[0].shape)\n",
    "\n",
    "########\n",
    "# Step 3: 모든 params를 더하여 total_parmams를 구하세요.\n",
    "total_params = first_linear.count_params() + second_linear.count_params() + third_linear.count_params()\n",
    "\n",
    "print(\"총 Parameters:\", total_params)"
   ]
  },
  {
   "cell_type": "markdown",
   "id": "unauthorized-characteristic",
   "metadata": {},
   "source": [
    "### Convolution 레이어"
   ]
  },
  {
   "cell_type": "markdown",
   "id": "ongoing-jungle",
   "metadata": {},
   "source": [
    "![컨볼루션](https://aiffelstaticprd.blob.core.windows.net/media/images/F-24_conv.max-800x600.png)\n",
    "- 이러한 필터를 수십개를 중첩시켜 훈련 하는 레이어\n",
    "- Convolution 레이어는 입력의 정보를 집약시키는 효과가 뛰어나기 때문에 여러 겹의 레이어를 중첩하는 것이 일반적\n",
    "- 중첩할수록 최종 Linear 레이어는 작아지게 되어 입력에서 중요한 부분을 뽑아내는 데에 최적화"
   ]
  },
  {
   "cell_type": "code",
   "execution_count": 3,
   "id": "subject-walker",
   "metadata": {},
   "outputs": [
    {
     "name": "stdout",
     "output_type": "stream",
     "text": [
      "입력 이미지 데이터: (64, 1920, 1080, 3)\n",
      "\n",
      "Convolution 결과: (64, 384, 216, 16)\n",
      "Convolution Layer의 Parameter 수: 1200\n",
      "\n",
      "1차원으로 펼친 데이터: (64, 1327104)\n",
      "\n",
      "Linear 결과: (64, 1)\n",
      "Linear Layer의 Parameter 수: 1327104\n"
     ]
    }
   ],
   "source": [
    "import tensorflow as tf\n",
    "\n",
    "batch_size = 64\n",
    "pic = tf.zeros((batch_size, 1920, 1080, 3))\n",
    "\n",
    "print(\"입력 이미지 데이터:\", pic.shape)\n",
    "conv_layer = tf.keras.layers.Conv2D(filters=16,\n",
    "                                    kernel_size=(5, 5),\n",
    "                                    strides=5,\n",
    "                                    use_bias=False)\n",
    "conv_out = conv_layer(pic)\n",
    "\n",
    "print(\"\\nConvolution 결과:\", conv_out.shape)\n",
    "print(\"Convolution Layer의 Parameter 수:\", conv_layer.count_params())\n",
    "\n",
    "flatten_out = tf.keras.layers.Flatten()(conv_out)\n",
    "print(\"\\n1차원으로 펼친 데이터:\", flatten_out.shape)\n",
    "\n",
    "linear_layer = tf.keras.layers.Dense(units=1, use_bias=False)\n",
    "linear_out = linear_layer(flatten_out)\n",
    "\n",
    "print(\"\\nLinear 결과:\", linear_out.shape)\n",
    "print(\"Linear Layer의 Parameter 수:\", linear_layer.count_params())"
   ]
  },
  {
   "cell_type": "markdown",
   "id": "expanded-victor",
   "metadata": {},
   "source": [
    "### Pooling 레이어 - 핵심을 추려서 넓게 만듦"
   ]
  },
  {
   "cell_type": "markdown",
   "id": "underlying-romania",
   "metadata": {},
   "source": [
    "#### Receptive Field 개념\n",
    "- Neural Network의 출력부가 충분한 정보를 얻기 위해 커버하는 입력 데이터의 Receptive Field가 충분히 커서 그 안에 detect해야 할 object의 특성이 충분히 포함되어있어야함.    \n",
    "![리셉티브필드](https://aiffelstaticprd.blob.core.windows.net/media/original_images/F-24_receptive.png)\n",
    "\n",
    "위 그림은 7 X 7의 이미지에 3 X 3의 필터로 Convolution한 결과를 도식화한 것입니다. Convolution 레이어를 한번 통과한 후 Output의 빨간색 포인트는 원본 이미지의 좌상단 3 X 3만큼의 입력만을 수용하게 됩니다. 그 결과 이 포인트의 Receptive Field의 크기는 Filter size와 정확히 같습니다."
   ]
  },
  {
   "cell_type": "markdown",
   "id": "imported-diagnosis",
   "metadata": {},
   "source": [
    "#### Max Pooling 레이어의 효과\n",
    "- translational invariance 효과   \n",
    "  이미지는 약간의 상하좌우 시프트가 생긴다고 해도 내용상 동일한 특징이 있는데, Max Pooling을 통해 인접한 영역 중 가장 특징이 두드러진 영역 하나를 뽑는 것은 오히려 약간의 시프트 효과에도 불구하고 동일한 특징을 안정적으로 잡아낼 수 있는 긍정적 효과가 있어서 오히려 object 위치에 대한 오버피팅을 방지하고 안정적인 특징 추출 효과를 가져온다고 합니다.\n",
    "\n",
    "- Non-linear 함수와 동일한 피처 추출 효과   \n",
    "  Relu와 같은 Non-linear 함수도 마찬가지로 많은 하위 레이어의 연산 결과를 무시하는 효과를 발생시키지만, 그 결과 중요한 피처만을 상위 레이어로 추출해서 올려줌으로써 결과적으로 분류기의 성능을 증진시키는 효과를 가집니다. Min/Max Pooling도 이와 동일한 효과를 가지게 됩니다.\n",
    "\n",
    "- Receptive Field 극대화 효과   \n",
    "  Max Pooling이 없이도 Receptive Field를 크게 하려면 Convolutional 레이어를 아주 많이 쌓아야 합니다. 그 결과 큰 파라미터 사이즈로 인한 오버피팅, 연산량 증가, Gradient Vanishing 등의 문제를 감수해야 합니다. 이런 문제를 효과적으로 해결하는 방법으로 꼽히는 두 가지 중 하나가 Max Pooling 레이어 사용입니다. 다른 하나로는 Dilated Convolution이 있습니다. "
   ]
  },
  {
   "cell_type": "markdown",
   "id": "laughing-prospect",
   "metadata": {},
   "source": [
    "### Deconvolution 레이어 - 집약된 정보를 복원\n",
    "#### Auto Encoder\n",
    "- Convolution의 결과를 역재생해서 원본 이미지와 최대한 유사한 정보를 복원"
   ]
  },
  {
   "cell_type": "markdown",
   "id": "powerful-optimization",
   "metadata": {},
   "source": [
    "1. 패키지 임포트 및 MNIST 데이터셋 로딩\n",
    "2. AutoEncoder 모델 구성\n",
    "3. AutoEncoder 모델 훈련\n",
    "4. AutoEncoder Reconstruction Test"
   ]
  },
  {
   "cell_type": "code",
   "execution_count": 4,
   "id": "offshore-newton",
   "metadata": {},
   "outputs": [],
   "source": [
    "import numpy as np\n",
    "from tensorflow.python.keras.layers import Input, Dense, Conv2D, MaxPooling2D, UpSampling2D\n",
    "from tensorflow.python.keras.models import Model\n",
    "from tensorflow.python.keras.datasets import mnist\n",
    "import json\n",
    "import matplotlib.pyplot as plt #for plotting\n",
    "\n",
    "# MNIST 데이터 로딩\n",
    "(x_train, _), (x_test, _) = mnist.load_data()    # y_train, y_test는 사용하지 않습니다.\n",
    "# AutoEncoder가 수행하는 Image Reconstruction Task는 x_train의 라벨이 바로 x_train 자신이기때문이다.\n",
    "x_train = np.expand_dims(x_train, axis=3)\n",
    "x_test = np.expand_dims(x_test, axis=3)\n",
    "\n",
    "x_train = x_train.astype('float32') / 255.\n",
    "x_test = x_test.astype('float32') / 255."
   ]
  },
  {
   "cell_type": "code",
   "execution_count": 5,
   "id": "preceding-elite",
   "metadata": {},
   "outputs": [
    {
     "name": "stdout",
     "output_type": "stream",
     "text": [
      "Model: \"model\"\n",
      "_________________________________________________________________\n",
      "Layer (type)                 Output Shape              Param #   \n",
      "=================================================================\n",
      "input_1 (InputLayer)         [(None, 28, 28, 1)]       0         \n",
      "_________________________________________________________________\n",
      "conv2d_1 (Conv2D)            (None, 28, 28, 16)        160       \n",
      "_________________________________________________________________\n",
      "max_pooling2d (MaxPooling2D) (None, 14, 14, 16)        0         \n",
      "_________________________________________________________________\n",
      "conv2d_2 (Conv2D)            (None, 14, 14, 8)         1160      \n",
      "_________________________________________________________________\n",
      "max_pooling2d_1 (MaxPooling2 (None, 7, 7, 8)           0         \n",
      "_________________________________________________________________\n",
      "conv2d_3 (Conv2D)            (None, 7, 7, 4)           292       \n",
      "_________________________________________________________________\n",
      "max_pooling2d_2 (MaxPooling2 (None, 4, 4, 4)           0         \n",
      "_________________________________________________________________\n",
      "conv2d_4 (Conv2D)            (None, 4, 4, 4)           148       \n",
      "_________________________________________________________________\n",
      "up_sampling2d (UpSampling2D) (None, 8, 8, 4)           0         \n",
      "_________________________________________________________________\n",
      "conv2d_5 (Conv2D)            (None, 8, 8, 8)           296       \n",
      "_________________________________________________________________\n",
      "up_sampling2d_1 (UpSampling2 (None, 16, 16, 8)         0         \n",
      "_________________________________________________________________\n",
      "conv2d_6 (Conv2D)            (None, 14, 14, 16)        1168      \n",
      "_________________________________________________________________\n",
      "up_sampling2d_2 (UpSampling2 (None, 28, 28, 16)        0         \n",
      "_________________________________________________________________\n",
      "conv2d_7 (Conv2D)            (None, 28, 28, 1)         145       \n",
      "=================================================================\n",
      "Total params: 3,369\n",
      "Trainable params: 3,369\n",
      "Non-trainable params: 0\n",
      "_________________________________________________________________\n"
     ]
    }
   ],
   "source": [
    "# AutoEncoder 모델 구성 - Input 부분\n",
    "input_shape = x_train.shape[1:]\n",
    "input_img = Input(shape=input_shape)\n",
    "\n",
    "# AutoEncoder 모델 구성 - Encoder 부분\n",
    "# Conv2D 레이어는 shape를 변화시키지않는다. Output shape를 변화시키는 것은 오롯이 MaxPooling2D 레이어의 역할\n",
    "encode_conv_layer_1 = Conv2D(16, (3, 3), activation='relu', padding='same')\n",
    "encode_pool_layer_1 = MaxPooling2D((2, 2), padding='same')\n",
    "encode_conv_layer_2 = Conv2D(8, (3, 3), activation='relu', padding='same')\n",
    "encode_pool_layer_2 = MaxPooling2D((2, 2), padding='same')\n",
    "encode_conv_layer_3 = Conv2D(4, (3, 3), activation='relu', padding='same')\n",
    "encode_pool_layer_3 = MaxPooling2D((2, 2), padding='same')\n",
    "\n",
    "encoded = encode_conv_layer_1(input_img)\n",
    "encoded = encode_pool_layer_1(encoded)\n",
    "encoded = encode_conv_layer_2(encoded)\n",
    "encoded = encode_pool_layer_2(encoded)\n",
    "encoded = encode_conv_layer_3(encoded)\n",
    "encoded = encode_pool_layer_3(encoded)\n",
    "\n",
    "# AutoEncoder 모델 구성 - Decoder 부분\n",
    "# Shape의 변형은 upsample 레이어\n",
    "decode_conv_layer_1 = Conv2D(4, (3, 3), activation='relu', padding='same')\n",
    "decode_upsample_layer_1 = UpSampling2D((2, 2))\n",
    "decode_conv_layer_2 = Conv2D(8, (3, 3), activation='relu', padding='same')\n",
    "decode_upsample_layer_2 = UpSampling2D((2, 2))\n",
    "decode_conv_layer_3 = Conv2D(16, (3, 3), activation='relu')\n",
    "decode_upsample_layer_3 = UpSampling2D((2, 2))\n",
    "decode_conv_layer_4 = Conv2D(1, (3, 3), activation='sigmoid', padding='same')\n",
    "\n",
    "decoded = decode_conv_layer_1(encoded)   # Decoder는 Encoder의 출력을 입력으로 받습니다.\n",
    "decoded = decode_upsample_layer_1(decoded)\n",
    "decoded = decode_conv_layer_2(decoded)\n",
    "decoded = decode_upsample_layer_2(decoded)\n",
    "decoded = decode_conv_layer_3(decoded)\n",
    "decoded = decode_upsample_layer_3(decoded)\n",
    "decoded = decode_conv_layer_4(decoded)\n",
    "\n",
    "# AutoEncoder 모델 정의\n",
    "autoencoder=Model(input_img, decoded)\n",
    "autoencoder.summary()"
   ]
  },
  {
   "cell_type": "code",
   "execution_count": 6,
   "id": "alleged-pepper",
   "metadata": {},
   "outputs": [
    {
     "name": "stdout",
     "output_type": "stream",
     "text": [
      "Epoch 1/50\n",
      "235/235 [==============================] - 20s 81ms/step - loss: 0.6961 - val_loss: 0.6948\n",
      "Epoch 2/50\n",
      "235/235 [==============================] - 18s 78ms/step - loss: 0.6942 - val_loss: 0.6927\n",
      "Epoch 3/50\n",
      "235/235 [==============================] - 18s 76ms/step - loss: 0.6921 - val_loss: 0.6903\n",
      "Epoch 4/50\n",
      "235/235 [==============================] - 18s 78ms/step - loss: 0.6896 - val_loss: 0.6876\n",
      "Epoch 5/50\n",
      "235/235 [==============================] - 18s 79ms/step - loss: 0.6869 - val_loss: 0.6846\n",
      "Epoch 6/50\n",
      "235/235 [==============================] - 19s 81ms/step - loss: 0.6837 - val_loss: 0.6810\n",
      "Epoch 7/50\n",
      "235/235 [==============================] - 19s 79ms/step - loss: 0.6800 - val_loss: 0.6766\n",
      "Epoch 8/50\n",
      "235/235 [==============================] - 19s 79ms/step - loss: 0.6753 - val_loss: 0.6709\n",
      "Epoch 9/50\n",
      "235/235 [==============================] - 19s 79ms/step - loss: 0.6691 - val_loss: 0.6630\n",
      "Epoch 10/50\n",
      "235/235 [==============================] - 19s 80ms/step - loss: 0.6602 - val_loss: 0.6505\n",
      "Epoch 11/50\n",
      "235/235 [==============================] - 19s 80ms/step - loss: 0.6459 - val_loss: 0.6285\n",
      "Epoch 12/50\n",
      "235/235 [==============================] - 19s 80ms/step - loss: 0.6196 - val_loss: 0.5861\n",
      "Epoch 13/50\n",
      "235/235 [==============================] - 18s 79ms/step - loss: 0.5699 - val_loss: 0.5215\n",
      "Epoch 14/50\n",
      "235/235 [==============================] - 19s 80ms/step - loss: 0.5080 - val_loss: 0.4878\n",
      "Epoch 15/50\n",
      "235/235 [==============================] - 19s 81ms/step - loss: 0.4825 - val_loss: 0.4795\n",
      "Epoch 16/50\n",
      "235/235 [==============================] - 19s 79ms/step - loss: 0.4744 - val_loss: 0.4731\n",
      "Epoch 17/50\n",
      "235/235 [==============================] - 18s 77ms/step - loss: 0.4679 - val_loss: 0.4668\n",
      "Epoch 18/50\n",
      "235/235 [==============================] - 18s 77ms/step - loss: 0.4623 - val_loss: 0.4603\n",
      "Epoch 19/50\n",
      "235/235 [==============================] - 18s 78ms/step - loss: 0.4564 - val_loss: 0.4537\n",
      "Epoch 20/50\n",
      "235/235 [==============================] - 18s 76ms/step - loss: 0.4489 - val_loss: 0.4471\n",
      "Epoch 21/50\n",
      "235/235 [==============================] - 18s 77ms/step - loss: 0.4419 - val_loss: 0.4404\n",
      "Epoch 22/50\n",
      "235/235 [==============================] - 18s 77ms/step - loss: 0.4352 - val_loss: 0.4335\n",
      "Epoch 23/50\n",
      "235/235 [==============================] - 18s 77ms/step - loss: 0.4285 - val_loss: 0.4262\n",
      "Epoch 24/50\n",
      "235/235 [==============================] - 18s 77ms/step - loss: 0.4217 - val_loss: 0.4185\n",
      "Epoch 25/50\n",
      "235/235 [==============================] - 18s 76ms/step - loss: 0.4137 - val_loss: 0.4104\n",
      "Epoch 26/50\n",
      "235/235 [==============================] - 18s 77ms/step - loss: 0.4055 - val_loss: 0.4021\n",
      "Epoch 27/50\n",
      "235/235 [==============================] - 18s 77ms/step - loss: 0.3972 - val_loss: 0.3934\n",
      "Epoch 28/50\n",
      "235/235 [==============================] - 18s 77ms/step - loss: 0.3879 - val_loss: 0.3842\n",
      "Epoch 29/50\n",
      "235/235 [==============================] - 18s 77ms/step - loss: 0.3795 - val_loss: 0.3747\n",
      "Epoch 30/50\n",
      "235/235 [==============================] - 18s 77ms/step - loss: 0.3699 - val_loss: 0.3653\n",
      "Epoch 31/50\n",
      "235/235 [==============================] - 18s 77ms/step - loss: 0.3607 - val_loss: 0.3562\n",
      "Epoch 32/50\n",
      "235/235 [==============================] - 18s 77ms/step - loss: 0.3512 - val_loss: 0.3471\n",
      "Epoch 33/50\n",
      "235/235 [==============================] - 18s 77ms/step - loss: 0.3426 - val_loss: 0.3382\n",
      "Epoch 34/50\n",
      "235/235 [==============================] - 18s 77ms/step - loss: 0.3340 - val_loss: 0.3295\n",
      "Epoch 35/50\n",
      "235/235 [==============================] - 18s 76ms/step - loss: 0.3253 - val_loss: 0.3211\n",
      "Epoch 36/50\n",
      "235/235 [==============================] - 18s 77ms/step - loss: 0.3174 - val_loss: 0.3132\n",
      "Epoch 37/50\n",
      "235/235 [==============================] - 18s 76ms/step - loss: 0.3094 - val_loss: 0.3060\n",
      "Epoch 38/50\n",
      "235/235 [==============================] - 18s 77ms/step - loss: 0.3022 - val_loss: 0.2996\n",
      "Epoch 39/50\n",
      "235/235 [==============================] - 18s 77ms/step - loss: 0.2965 - val_loss: 0.2941\n",
      "Epoch 40/50\n",
      "235/235 [==============================] - 18s 77ms/step - loss: 0.2919 - val_loss: 0.2896\n",
      "Epoch 41/50\n",
      "235/235 [==============================] - 18s 77ms/step - loss: 0.2867 - val_loss: 0.2857\n",
      "Epoch 42/50\n",
      "235/235 [==============================] - 18s 77ms/step - loss: 0.2838 - val_loss: 0.2825\n",
      "Epoch 43/50\n",
      "235/235 [==============================] - 18s 77ms/step - loss: 0.2807 - val_loss: 0.2798\n",
      "Epoch 44/50\n",
      "235/235 [==============================] - 18s 77ms/step - loss: 0.2781 - val_loss: 0.2774\n",
      "Epoch 45/50\n",
      "235/235 [==============================] - 18s 77ms/step - loss: 0.2758 - val_loss: 0.2753\n",
      "Epoch 46/50\n",
      "235/235 [==============================] - 18s 77ms/step - loss: 0.2733 - val_loss: 0.2734\n",
      "Epoch 47/50\n",
      "235/235 [==============================] - 18s 77ms/step - loss: 0.2720 - val_loss: 0.2717\n",
      "Epoch 48/50\n",
      "235/235 [==============================] - 18s 77ms/step - loss: 0.2704 - val_loss: 0.2701\n",
      "Epoch 49/50\n",
      "235/235 [==============================] - 18s 77ms/step - loss: 0.2690 - val_loss: 0.2686\n",
      "Epoch 50/50\n",
      "235/235 [==============================] - 18s 77ms/step - loss: 0.2675 - val_loss: 0.2672\n"
     ]
    },
    {
     "data": {
      "text/plain": [
       "<tensorflow.python.keras.callbacks.History at 0x7f84a03bb290>"
      ]
     },
     "execution_count": 6,
     "metadata": {},
     "output_type": "execute_result"
    }
   ],
   "source": [
    "autoencoder.compile(optimizer='adadelta', loss='binary_crossentropy')\n",
    "\n",
    "autoencoder.fit(x_train, x_train,\n",
    "                epochs=50,\n",
    "                batch_size=256,\n",
    "                shuffle=True,\n",
    "                validation_data=(x_test, x_test))"
   ]
  },
  {
   "cell_type": "code",
   "execution_count": 7,
   "id": "instructional-nancy",
   "metadata": {},
   "outputs": [
    {
     "data": {
      "image/png": "[encoded data removed]",
      "text/plain": [
       "<Figure size 864x360 with 20 Axes>"
      ]
     },
     "metadata": {
      "needs_background": "light"
     },
     "output_type": "display_data"
    }
   ],
   "source": [
    "x_test_10 = x_test[:10]       # 테스트 데이터셋에서 10개만 골라서\n",
    "x_test_hat = autoencoder.predict(x_test_10)    # AutoEncoder 모델의 이미지 복원생성\n",
    "x_test_imgs = x_test_10.reshape(-1, 28, 28)\n",
    "x_test_hat_imgs = x_test_hat.reshape(-1, 28, 28)\n",
    "\n",
    "plt.figure(figsize=(12,5))  # 이미지 사이즈 지정\n",
    "for i in range(10):  \n",
    "    # 원본이미지 출력\n",
    "    plt.subplot(2, 10, i+1)\n",
    "    plt.imshow(x_test_imgs[i])\n",
    "    # 생성된 이미지 출력\n",
    "    plt.subplot(2, 10, i+11)\n",
    "    plt.imshow(x_test_hat_imgs[i])"
   ]
  },
  {
   "cell_type": "markdown",
   "id": "induced-officer",
   "metadata": {},
   "source": [
    "#### Decoder Layers for Reconstruction"
   ]
  },
  {
   "cell_type": "markdown",
   "id": "handmade-arena",
   "metadata": {},
   "source": [
    "#### Upsampling 레이어의 방법\n",
    "- Nearest Neighbor : 복원해야 할 값을 가까운 값으로 복제한다.\n",
    "- Bed of Nails : 복원해야 할 값을 0으로 처리한다.\n",
    "- Max Unpooling : Max Pooling 때 버린 값을 실은 따로 기억해 두었다가 그 값으로 복원한다.\n",
    "\n",
    "- [Deconvolution에 대한 자세한 설명](https://analysisbugs.tistory.com/104)   \n",
    "\n",
    "#### Transposed Convolution\n",
    "- [설명](https://zzsza.github.io/data/2018/06/25/upsampling-with-transposed-convolution/)"
   ]
  },
  {
   "cell_type": "code",
   "execution_count": 8,
   "id": "matched-annual",
   "metadata": {},
   "outputs": [
    {
     "name": "stdout",
     "output_type": "stream",
     "text": [
      "Model: \"model_1\"\n",
      "_________________________________________________________________\n",
      "Layer (type)                 Output Shape              Param #   \n",
      "=================================================================\n",
      "input_2 (InputLayer)         [(None, 28, 28, 1)]       0         \n",
      "_________________________________________________________________\n",
      "conv2d_8 (Conv2D)            (None, 26, 26, 16)        160       \n",
      "_________________________________________________________________\n",
      "max_pooling2d_3 (MaxPooling2 (None, 13, 13, 16)        0         \n",
      "_________________________________________________________________\n",
      "conv2d_9 (Conv2D)            (None, 11, 11, 8)         1160      \n",
      "_________________________________________________________________\n",
      "max_pooling2d_4 (MaxPooling2 (None, 5, 5, 8)           0         \n",
      "_________________________________________________________________\n",
      "conv2d_10 (Conv2D)           (None, 3, 3, 4)           292       \n",
      "_________________________________________________________________\n",
      "conv2d_transpose (Conv2DTran (None, 3, 3, 4)           148       \n",
      "_________________________________________________________________\n",
      "up_sampling2d_3 (UpSampling2 (None, 6, 6, 4)           0         \n",
      "_________________________________________________________________\n",
      "conv2d_transpose_1 (Conv2DTr (None, 6, 6, 8)           296       \n",
      "_________________________________________________________________\n",
      "up_sampling2d_4 (UpSampling2 (None, 12, 12, 8)         0         \n",
      "_________________________________________________________________\n",
      "conv2d_transpose_2 (Conv2DTr (None, 14, 14, 16)        1168      \n",
      "_________________________________________________________________\n",
      "up_sampling2d_5 (UpSampling2 (None, 28, 28, 16)        0         \n",
      "_________________________________________________________________\n",
      "conv2d_transpose_3 (Conv2DTr (None, 28, 28, 1)         145       \n",
      "=================================================================\n",
      "Total params: 3,369\n",
      "Trainable params: 3,369\n",
      "Non-trainable params: 0\n",
      "_________________________________________________________________\n"
     ]
    }
   ],
   "source": [
    "from tensorflow.python.keras.layers import Conv2DTranspose\n",
    "\n",
    "# Conv2DTranspose를 활용한  AutoEncoder 모델\n",
    "# AutoEncoder 모델 구성 - Input 부분\n",
    "input_shape = x_train.shape[1:]\n",
    "input_img = Input(shape=input_shape)\n",
    "\n",
    "# AutoEncoder 모델 구성 - Encoder 부분\n",
    "encode_conv_layer_1 = Conv2D(16, (3, 3), activation='relu')\n",
    "encode_pool_layer_1 = MaxPooling2D((2, 2))\n",
    "encode_conv_layer_2 = Conv2D(8, (3, 3), activation='relu')\n",
    "encode_pool_layer_2 = MaxPooling2D((2, 2))\n",
    "encode_conv_layer_3 = Conv2D(4, (3, 3), activation='relu')\n",
    "\n",
    "encoded = encode_conv_layer_1(input_img)\n",
    "encoded = encode_pool_layer_1(encoded)\n",
    "encoded = encode_conv_layer_2(encoded)\n",
    "encoded = encode_pool_layer_2(encoded)\n",
    "encoded = encode_conv_layer_3(encoded)\n",
    "\n",
    "# AutoEncoder 모델 구성 - Decoder 부분  - \n",
    "decode_conv_layer_1 = Conv2DTranspose(4, (3, 3), activation='relu', padding='same')\n",
    "decode_upsample_layer_1 = UpSampling2D((2, 2))\n",
    "decode_conv_layer_2 = Conv2DTranspose(8, (3, 3), activation='relu', padding='same')\n",
    "decode_upsample_layer_2 = UpSampling2D((2, 2))\n",
    "decode_conv_layer_3 = Conv2DTranspose(16, (3, 3), activation='relu')\n",
    "decode_upsample_layer_3 = UpSampling2D((2, 2))\n",
    "decode_conv_layer_4 = Conv2DTranspose(1, (3, 3), activation='sigmoid', padding='same')\n",
    "\n",
    "decoded = decode_conv_layer_1(encoded)   # Decoder는 Encoder의 출력을 입력으로 받습니다.\n",
    "decoded = decode_upsample_layer_1(decoded)\n",
    "decoded = decode_conv_layer_2(decoded)\n",
    "decoded = decode_upsample_layer_2(decoded)\n",
    "decoded = decode_conv_layer_3(decoded)\n",
    "decoded = decode_upsample_layer_3(decoded)\n",
    "decoded = decode_conv_layer_4(decoded)\n",
    "\n",
    "# AutoEncoder 모델 정의\n",
    "autoencoder=Model(input_img, decoded)\n",
    "autoencoder.summary()"
   ]
  },
  {
   "cell_type": "markdown",
   "id": "amended-designation",
   "metadata": {},
   "source": [
    "### 회고\n",
    "- Convolution레이어에 대한 것은 DeepML시간에도 접하여 어느정도 이해를 할 수 있었으나 AutoEncoder 부분은 몇번 다시 읽어봐야할 것 같다."
   ]
  }
 ],
 "metadata": {
  "kernelspec": {
   "display_name": "aiffel",
   "language": "python",
   "name": "aiffel"
  },
  "language_info": {
   "codemirror_mode": {
    "name": "ipython",
    "version": 3
   },
   "file_extension": ".py",
   "mimetype": "text/x-python",
   "name": "python",
   "nbconvert_exporter": "python",
   "pygments_lexer": "ipython3",
   "version": "3.7.9"
  }
 },
 "nbformat": 4,
 "nbformat_minor": 5
}
