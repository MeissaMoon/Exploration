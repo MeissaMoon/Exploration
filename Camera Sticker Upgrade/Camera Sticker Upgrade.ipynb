{
 "cells": [
  {
   "cell_type": "markdown",
   "id": "personal-harrison",
   "metadata": {},
   "source": [
    "### Camera Sticker\n",
    "---\n",
    "- mkdir -p ~/aiffel/video_sticker_app/models\n",
    "- mkdir -p ~/aiffel/video_sticker_app/images  \n",
    "  \n",
    "    \n",
    "- cd ~/aiffel/video_sticker_app\n",
    "- wget https://aiffelstaticprd.blob.core.windows.net/media/documents/new_video_sticker_app.zip\n",
    "- unzip new_video_sticker_app.zip"
   ]
  },
  {
   "cell_type": "markdown",
   "id": "jewish-found",
   "metadata": {},
   "source": [
    "### 프로젝트 (1) moviepy로 비디오 처리하기"
   ]
  },
  {
   "cell_type": "markdown",
   "id": "quick-killing",
   "metadata": {},
   "source": [
    "#### 1. moviepy를 이용해서 주피터 노트북 상에서 비디오를 읽고 쓰는 프로그램을 작성"
   ]
  },
  {
   "cell_type": "code",
   "execution_count": 1,
   "id": "nasty-comparative",
   "metadata": {},
   "outputs": [],
   "source": [
    "from moviepy.editor import VideoClip, VideoFileClip\n",
    "from moviepy.editor import ipython_display\n",
    "import cv2\n",
    "import numpy as np\n",
    "import os"
   ]
  },
  {
   "cell_type": "code",
   "execution_count": 2,
   "id": "every-stone",
   "metadata": {},
   "outputs": [
    {
     "name": "stderr",
     "output_type": "stream",
     "text": [
      "chunk:  18%|█▊        | 53/297 [00:00<00:00, 529.04it/s, now=None]"
     ]
    },
    {
     "name": "stdout",
     "output_type": "stream",
     "text": [
      "Moviepy - Building video /home/ssac24/aiffel/video_sticker_app/images/mvpyresult.mp4.\n",
      "MoviePy - Writing audio in mvpyresultTEMP_MPY_wvf_snd.mp3\n"
     ]
    },
    {
     "name": "stderr",
     "output_type": "stream",
     "text": [
      "t:   5%|▌         | 22/404 [00:00<00:01, 218.01it/s, now=None]      "
     ]
    },
    {
     "name": "stdout",
     "output_type": "stream",
     "text": [
      "MoviePy - Done.\n",
      "Moviepy - Writing video /home/ssac24/aiffel/video_sticker_app/images/mvpyresult.mp4\n",
      "\n"
     ]
    },
    {
     "name": "stderr",
     "output_type": "stream",
     "text": [
      "                                                               \r"
     ]
    },
    {
     "name": "stdout",
     "output_type": "stream",
     "text": [
      "Moviepy - Done !\n",
      "Moviepy - video ready /home/ssac24/aiffel/video_sticker_app/images/mvpyresult.mp4\n"
     ]
    }
   ],
   "source": [
    "# 읽기\n",
    "video_path = os.getenv('HOME')+'/aiffel/video_sticker_app/images/video2.mp4'\n",
    "clip = VideoFileClip(video_path)\n",
    "clip = clip.resize(width=640)\n",
    "clip.ipython_display(fps=30, loop=True, autoplay=True, rd_kwargs=dict(logger=None))\n",
    "\n",
    "# 쓰기\n",
    "result_video_path = os.getenv('HOME')+'/aiffel/video_sticker_app/images/mvpyresult.mp4'\n",
    "clip.write_videofile(result_video_path)"
   ]
  },
  {
   "cell_type": "markdown",
   "id": "japanese-praise",
   "metadata": {},
   "source": [
    "#### 2. moviepy 로 읽은 동영상을 numpy 형태로 변환하고 영상 밝기를 50% 어둡게 만든 후에 저장"
   ]
  },
  {
   "cell_type": "code",
   "execution_count": 3,
   "id": "moderate-bracket",
   "metadata": {},
   "outputs": [
    {
     "name": "stderr",
     "output_type": "stream",
     "text": [
      "t:  12%|█▏        | 48/403 [00:00<00:00, 476.71it/s, now=None]"
     ]
    },
    {
     "name": "stdout",
     "output_type": "stream",
     "text": [
      "Moviepy - Building video /home/ssac24/aiffel/video_sticker_app/images/mvpyresult2.mp4.\n",
      "Moviepy - Writing video /home/ssac24/aiffel/video_sticker_app/images/mvpyresult2.mp4\n",
      "\n"
     ]
    },
    {
     "name": "stderr",
     "output_type": "stream",
     "text": [
      "                                                               \r"
     ]
    },
    {
     "name": "stdout",
     "output_type": "stream",
     "text": [
      "Moviepy - Done !\n",
      "Moviepy - video ready /home/ssac24/aiffel/video_sticker_app/images/mvpyresult2.mp4\n"
     ]
    }
   ],
   "source": [
    "# 읽기\n",
    "video_path = os.getenv('HOME')+'/aiffel/video_sticker_app/images/video2.mp4'\n",
    "clip = VideoFileClip(video_path)\n",
    "clip = clip.resize(width=640)\n",
    "clip.ipython_display(fps=30, loop=True, autoplay=True, rd_kwargs=dict(logger=None))\n",
    "\n",
    "# clip 에서 numpy 로 데이터 추출\n",
    "vlen = int(clip.duration*clip.fps)\n",
    "video_container = np.zeros((vlen, clip.size[1], clip.size[0], 3), dtype=np.uint8)\n",
    "for i in range(vlen):\n",
    "    img = clip.get_frame(i/clip.fps)\n",
    "    video_container[i] = (img * 0.5).astype(np.uint8)\n",
    "\n",
    "# 새 clip 만들기\n",
    "dur = vlen / clip.fps\n",
    "outclip = VideoClip(lambda t: video_container[int(round(t*clip.fps))], duration=dur)\n",
    "\n",
    "# 쓰기\n",
    "result_video_path2 = os.getenv('HOME')+'/aiffel/video_sticker_app/images/mvpyresult2.mp4'\n",
    "outclip.write_videofile(result_video_path2, fps=30)"
   ]
  },
  {
   "cell_type": "markdown",
   "id": "starting-annotation",
   "metadata": {},
   "source": [
    "#### 3. 영상을 읽고 쓰는 시간을 측정해 주세요. OpenCV를 사용할 때와 차이를 측정"
   ]
  },
  {
   "cell_type": "code",
   "execution_count": 4,
   "id": "actual-medline",
   "metadata": {},
   "outputs": [
    {
     "name": "stderr",
     "output_type": "stream",
     "text": [
      "t:  12%|█▏        | 48/403 [00:00<00:00, 411.31it/s, now=None]"
     ]
    },
    {
     "name": "stdout",
     "output_type": "stream",
     "text": [
      "Moviepy - Building video /home/ssac24/aiffel/video_sticker_app/images/mvpyresult.mp4.\n",
      "Moviepy - Writing video /home/ssac24/aiffel/video_sticker_app/images/mvpyresult.mp4\n",
      "\n"
     ]
    },
    {
     "name": "stderr",
     "output_type": "stream",
     "text": [
      "                                                               \r"
     ]
    },
    {
     "name": "stdout",
     "output_type": "stream",
     "text": [
      "Moviepy - Done !\n",
      "Moviepy - video ready /home/ssac24/aiffel/video_sticker_app/images/mvpyresult.mp4\n",
      "[INFO] moviepy time : 3.07ms\n"
     ]
    }
   ],
   "source": [
    "# CASE 1 : moviepy 사용\n",
    "start = cv2.getTickCount()\n",
    "clip = VideoFileClip(video_path)\n",
    "clip = clip.resize(width=640)\n",
    "\n",
    "vlen = int(clip.duration*clip.fps)\n",
    "video_container = np.zeros((vlen, clip.size[1], clip.size[0], 3), dtype=np.uint8)\n",
    "\n",
    "for i in range(vlen):\n",
    "    img = clip.get_frame(i/clip.fps)\n",
    "    video_container[i] = (img * 0.5).astype(np.uint8)\n",
    "\n",
    "dur = vlen / clip.fps\n",
    "outclip = VideoClip(lambda t: video_container[int(round(t*clip.fps))], duration=dur)\n",
    "\n",
    "mvpy_video_path = os.getenv('HOME')+'/aiffel/video_sticker_app/images/mvpyresult.mp4'\n",
    "outclip.write_videofile(mvpy_video_path, fps=30)\n",
    "\n",
    "time = (cv2.getTickCount() - start) / cv2.getTickFrequency()\n",
    "print (f'[INFO] moviepy time : {time:.2f}ms')"
   ]
  },
  {
   "cell_type": "code",
   "execution_count": 5,
   "id": "boolean-current",
   "metadata": {},
   "outputs": [
    {
     "name": "stdout",
     "output_type": "stream",
     "text": [
      "[INFO] cv time : 1.60ms\n"
     ]
    }
   ],
   "source": [
    "# CASE 2 : OpenCV 사용\n",
    "start = cv2.getTickCount()\n",
    "vc = cv2.VideoCapture(video_path)\n",
    "\n",
    "cv_video_path = os.getenv('HOME')+'/aiffel/video_sticker_app/images/cvresult.mp4'\n",
    "fourcc = cv2.VideoWriter_fourcc(*'mp4v')\n",
    "vw = cv2.VideoWriter(cv_video_path, fourcc, 30, (640,360))\n",
    "\n",
    "vlen = int(vc.get(cv2.CAP_PROP_FRAME_COUNT))\n",
    "\n",
    "for i in range(vlen):\n",
    "    ret, img = vc.read()\n",
    "    if ret == False: break\n",
    "    \n",
    "    img_result = cv2.resize(img, (640, 360)) * 0.5\n",
    "    vw.write(img_result.astype(np.uint8))\n",
    "    \n",
    "time = (cv2.getTickCount() - start) / cv2.getTickFrequency()\n",
    "print (f'[INFO] cv time : {time:.2f}ms')"
   ]
  },
  {
   "cell_type": "markdown",
   "id": "indonesian-trail",
   "metadata": {},
   "source": [
    "#### 4. moviepy 를 이용할 때의 장단점을 분석\n",
    "- OpenCV의 읽기, 쓰기 속도가 moviepy보다 더 빠르다\n",
    "-  moviepy는 저장된 영상 분석만 가능한 것 같다."
   ]
  },
  {
   "cell_type": "markdown",
   "id": "appropriate-sucking",
   "metadata": {},
   "source": [
    "### 프로젝트 (2) 어디까지 만들고 싶은지 정의하기"
   ]
  },
  {
   "cell_type": "markdown",
   "id": "quality-paint",
   "metadata": {},
   "source": [
    "#### 1. 실시간 카메라 스티커앱을 만들기\n",
    "- cd ~/aiffel/video_sticker_app && python webcam_sticker.py"
   ]
  },
  {
   "cell_type": "code",
   "execution_count": null,
   "id": "numeric-julian",
   "metadata": {},
   "outputs": [],
   "source": [
    "# webcam_sticker.py \n",
    "\n",
    "import numpy as np\n",
    "import cv2\n",
    "import dlib\n",
    "\n",
    "from newaddsticker import img2sticker\n",
    "\n",
    "detector_hog = dlib.get_frontal_face_detector()\n",
    "landmark_predictor = dlib.shape_predictor('./models/shape_predictor_68_face_landmarks.dat')\n",
    "\n",
    "def main():\n",
    "    cv2.namedWindow('show', 0)\n",
    "    cv2.resizeWindow('show', 640, 360)\n",
    "\n",
    "    vc = cv2.VideoCapture(0)   # 연결된 영상 장치의 인덱스, 하나만 있는 경우 0을 사용\n",
    "    img_sticker = cv2.imread('./images/king.png')\n",
    "\n",
    "    vlen = int(vc.get(cv2.CAP_PROP_FRAME_COUNT))\n",
    "    print (vlen) # 웹캠은 video length 가 0 입니다.\n",
    "\n",
    "    # 정해진 길이가 없기 때문에 while 을 주로 사용합니다.\n",
    "    # for i in range(vlen):\n",
    "    while True:\n",
    "        ret, img = vc.read()\n",
    "        if ret == False:\n",
    "            break\n",
    "        start = cv2.getTickCount()\n",
    "        img = cv2.flip(img, 1)  # 보통 웹캠은 좌우 반전\n",
    "\n",
    "        # 스티커 메소드를 사용\n",
    "        img_result = img2sticker(img, img_sticker.copy(), detector_hog, landmark_predictor)   \n",
    "\n",
    "        time = (cv2.getTickCount() - start) / cv2.getTickFrequency() * 1000\n",
    "        print ('[INFO] time: %.2fms'%time)\n",
    "\n",
    "        cv2.imshow('show', img_result)\n",
    "        key = cv2.waitKey(1)\n",
    "        if key == 27:\n",
    "            break\n",
    "\n",
    "\n",
    "if __name__ == '__main__':\n",
    "    main()"
   ]
  },
  {
   "cell_type": "markdown",
   "id": "instant-nursery",
   "metadata": {},
   "source": [
    "#### 2. 스티커앱을 실행하고 카메라를 고정하고 서서히 멀어져봅니다. 혹은 아주 가까이 다가가 봅니다. 얼굴을 찾지 못하는 거리를 기록\n",
    "- 거리측정시 30cm이상부터 최대 2m정도까지는 인식이 가능했다"
   ]
  },
  {
   "cell_type": "markdown",
   "id": "pointed-carolina",
   "metadata": {},
   "source": [
    "#### 3. 다시 자리로 돌아온 후 고개를 상하좌우로 움직여주세요. yaw, pitch, roll 각도의 개념을 직접 실험해 보고 각각 몇 도까지 정상적으로 스티커앱이 동작하는지 기록\n",
    "- yaw : y축 기준 회전 → 높이 축 -45 ~ 45도\n",
    "- picth : x축 기준 회전 → 좌우 축  -30 ~ 30도\n",
    "- roll : z축 기준 회전 → 거리 축 roll : -45 ~ 45도\n"
   ]
  },
  {
   "cell_type": "markdown",
   "id": "competent-lunch",
   "metadata": {},
   "source": [
    "#### 4. 만들고 싶은 스티커앱의 스펙(허용 거리, 허용 인원 수, 허용 각도, 안정성)\n",
    "- 거리 : 40cm ~ 1.5m → 셀카를 찍기 위한 성인 기준 팔길이 평균치를 최소로 잡고 단체사진을 위한 거리를 최대로\n",
    "- 인원 수 : 1인 ~ 4인 → 5인 이상 집합금지 기준 모임 최대 수 \n",
    "- 허용 각도 : yaw : -45 ~ 45도, roll: -45 ~ 45도, pitch -45 ~ 45도 → 일반적으로 얼굴의 반정도가 보이는 내에서 자유롭게 찍을수 있는 각도 설정\n",
    "- 안정성 : 위 조건을 만족하면서 칼만 필터를 적용하여 노이즈를 최소화한다"
   ]
  },
  {
   "cell_type": "markdown",
   "id": "ordered-medium",
   "metadata": {},
   "source": [
    "### 프로젝트 (3) 스티커 Out Bound 예외처리 하기"
   ]
  },
  {
   "cell_type": "markdown",
   "id": "occasional-magnitude",
   "metadata": {},
   "source": [
    "#### 1. 지금까지 만든 스티커앱을 이용해서 예외 상황을 찾아주세요. 특히 서서히 영상에서 좌우 경계 밖으로 나가며 코드의 행동을 확인\n",
    "```\n",
    "Traceback (most recent call last):\n",
    "  File \"webcam_sticker.py\", line 42, in <module>\n",
    "    main()\n",
    "  File \"webcam_sticker.py\", line 30, in main\n",
    "    img_result = img2sticker(img, img_sticker.copy(), detector_hog, landmark_predictor)   \n",
    "  File \"/home/ssac24/aiffel/video_sticker_app/newaddsticker.py\", line 42, in img2sticker\n",
    "    cv2.addWeighted(sticker_area, 1.0, img_sticker, 0.7, 0)\n",
    "cv2.error: OpenCV(4.5.1) /tmp/pip-req-build-hj027r8z/opencv/modules/core/src/arithm.cpp:666: error: (-209:Sizes of input arguments do not match) The operation is neither 'array op array' (where arrays have the same size and the same number of channels), nor 'array op scalar', nor 'scalar op array' in function 'arithm_op'\n",
    "```\n",
    "- 에러가 나면서 종료된다. 이유는 얼굴을 인식하는 설정값을 벗어나기때문인 듯"
   ]
  },
  {
   "cell_type": "markdown",
   "id": "korean-sugar",
   "metadata": {},
   "source": [
    "#### 2. 문제가 어디에서 발생하는지 코드에서 확인"
   ]
  },
  {
   "cell_type": "markdown",
   "id": "happy-complaint",
   "metadata": {},
   "source": [
    "- 얼굴이 카메라 왼쪽 경계를 벗어나서 detection 되는 경우 refined_x 의 값이 음수가 되어 img_bgr[..., refined_x:...] 에서 numpy array의 음수 index에 접근하게 되므로 예외가 발생\n",
    "```\n",
    "if refined_x < 0:\n",
    "    img_sticker = img_sticker[:, -refined_x:]\n",
    "    refined_x = 0\n",
    "elif refined_x + img_sticker.shape[1] >= img_orig.shape[1]:\n",
    "    img_sticker = img_sticker[:, :-(img_sticker.shape[1]+refined_x-img_orig.shape[1])]\n",
    "```"
   ]
  },
  {
   "cell_type": "markdown",
   "id": "foreign-screening",
   "metadata": {},
   "source": [
    "#### 3. Out bound 오류(경계 밖으로 대상이 나가서 생기는 오류)를 해결"
   ]
  },
  {
   "cell_type": "code",
   "execution_count": null,
   "id": "mineral-model",
   "metadata": {},
   "outputs": [],
   "source": [
    "# newaddsticker.py의 img2sticker 메소드에서 아래 부분을 수정\n",
    "\n",
    "import dlib\n",
    "import cv2\n",
    "\n",
    "def img2sticker(img_orig, img_sticker, detector_hog, landmark_predictor):\n",
    "    # preprocess\n",
    "    img_rgb = cv2.cvtColor(img_orig, cv2.COLOR_BGR2RGB)\n",
    "    \n",
    "    # detector\n",
    "    dlib_rects = detector_hog(img_rgb, 0)\n",
    "    if len(dlib_rects) < 1:\n",
    "        return img_orig\n",
    "    \n",
    "    # landmark\n",
    "    list_landmarks = []\n",
    "    for dlib_rect in dlib_rects:\n",
    "        points = landmark_predictor(img_rgb, dlib_rect)\n",
    "        list_points = list(map(lambda p: (p.x, p.y), points.parts()))\n",
    "        list_landmarks.append(list_points)\n",
    "    \n",
    "    # head coord\n",
    "    for dlib_rect, landmark in zip(dlib_rects, list_landmarks):\n",
    "        x = landmark[30][0] # nose\n",
    "        y = landmark[30][1] - dlib_rect.width()//2\n",
    "        w = dlib_rect.width()\n",
    "        h = dlib_rect.width()\n",
    "        break\n",
    "    \n",
    "    # sticker\n",
    "    img_sticker = cv2.resize(img_sticker, (w,h), interpolation=cv2.INTER_NEAREST)\n",
    "    \n",
    "    refined_x = x - w // 2\n",
    "    refined_y = y - h\n",
    "    \n",
    "    if refined_x < 0:\n",
    "        img_sticker = img_sticker[:, -refined_x:]\n",
    "        refined_x = 0\n",
    "    elif refined_x + img_sticker.shape[1] >= img_orig.shape[1]:\n",
    "        img_sticker = img_sticker[:, :-(img_sticker.shape[1]+refined_x-img_orig.shape[1])]\n",
    "\n",
    "    img_bgr = img_orig.copy()\n",
    "    sticker_area = img_bgr[refined_y:refined_y+img_sticker.shape[0], refined_x:refined_x+img_sticker.shape[1]]\n",
    "\n",
    "    img_bgr[refined_y:refined_y+img_sticker.shape[0], refined_x:refined_x+img_sticker.shape[1]] = \\\n",
    "        cv2.addWeighted(sticker_area, 1.0, img_sticker, 0.7, 0)\n",
    "\n",
    "    return img_bgr\n"
   ]
  },
  {
   "cell_type": "markdown",
   "id": "trying-picture",
   "metadata": {},
   "source": [
    "#### 4. 다른 예외는 어떤 것들이 있는지 정의\n",
    "- 얼굴이 정면 인식이 아닐 경우에 스티커또한 그에 맞게 설정가능 해야한다."
   ]
  },
  {
   "cell_type": "markdown",
   "id": "exotic-connecticut",
   "metadata": {},
   "source": [
    "### 프로젝트 (4) 스티커앱 분석 - 거리, 인원 수, 각도, 시계열 안정성"
   ]
  },
  {
   "cell_type": "markdown",
   "id": "vanilla-breakdown",
   "metadata": {},
   "source": [
    "#### 1. 멀어지는 경우에 왜 스티커앱이 동작하지 않는지 분석해주세요. detection, landmark, blending 단계 중 문제인 곳 찾기"
   ]
  },
  {
   "cell_type": "markdown",
   "id": "loving-synthetic",
   "metadata": {},
   "source": [
    "- dlib detection이 문제다. 멀어지면 detector_hog 단계에서 bbox가 출력되지 않는다.\n",
    "- 얼굴을 검출하는 사각형보다 얼굴이 작아서 인식하지 못하는 것 같다."
   ]
  },
  {
   "cell_type": "markdown",
   "id": "proud-mapping",
   "metadata": {},
   "source": [
    "#### 2. detector_hog의 문제를 해결하기 위해, 이미지 피라미드를 조절하여 성능을 향상시키는 간단한 방법을 활용하여 img2sticker 메소드를 간단히 고치기"
   ]
  },
  {
   "cell_type": "code",
   "execution_count": null,
   "id": "better-cardiff",
   "metadata": {},
   "outputs": [],
   "source": [
    "def img2sticker(img_orig, img_sticker, detector_hog, landmark_predictor):\n",
    "    # preprocess\n",
    "    img_rgb = cv2.cvtColor(img_orig, cv2.COLOR_BGR2RGB)\n",
    "\n",
    "    # detector\n",
    "    img_rgb_vga = cv2.resize(img_rgb, (640, 360))\n",
    "    dlib_rects = detector_hog(img_rgb_vga, 1) # <- 이미지 피라미드 수 변경\n",
    "    if len(dlib_rects) < 1:\n",
    "        return img_orig\n",
    "\n",
    "    # landmark\n",
    "    list_landmarks = []\n",
    "    for dlib_rect in dlib_rects:\n",
    "        points = landmark_predictor(img_rgb_vga, dlib_rect)\n",
    "        list_points = list(map(lambda p: (p.x, p.y), points.parts()))\n",
    "        list_landmarks.append(list_points)\n"
   ]
  },
  {
   "cell_type": "markdown",
   "id": "massive-condition",
   "metadata": {},
   "source": [
    "#### 3. 위에서 새롭게 시도한 방법의 문제점\n",
    "- 기존 30ms/frame에서 120ms/frame으로 느려짐 → 실시간 구동이 불가능"
   ]
  },
  {
   "cell_type": "markdown",
   "id": "adequate-greenhouse",
   "metadata": {},
   "source": [
    "#### 4. 실행시간을 만족할 수 있는 방법 찾기\n",
    "- hog 디텍터를 딥러닝 기반 디텍터로 변경할 수 있다. hog 학습 단계에서 다양한 각도에 대한 hog 특징을 모두 추출해서 일반화 하기 어렵기 때문에 딥러닝 기반 검출기의 성능이 훨씬 좋기때문.\n",
    "\n",
    "- opencv는 intel cpu 을 사용할 때 dnn 모듈이 가속화를 지원하고 있으므로 mobilenet과 같은 작은 backbone 모델을 사용하고 ssd 를 사용한다면 충분히 만족할 만한 시간과 성능을 얻을 수 있다."
   ]
  },
  {
   "cell_type": "markdown",
   "id": "smoking-optics",
   "metadata": {},
   "source": [
    "#### 5. 인원 수, 각도 등 각 문제에 대해서 1-4번을 반복한다\n",
    "- [Facial Landmark Detection](https://learnopencv.com/facial-landmark-detection/)\n",
    "- 인원 수가 2명 이상일 경우, landmark 문제가 생길 수 있다.\n",
    "- 각도가 설정 이상일 경우, landmark를 검출할 수 없는 각도일 때는 인식이 되지 않을 수 있다.\n",
    "- 이미지피라미드 조절 같은 모델 변경의 경우 사람이 증가할 수록 처리 시간이 증가하여, 동시 스티커출력에 문제가 생긴다.\n"
   ]
  },
  {
   "cell_type": "markdown",
   "id": "surface-birth",
   "metadata": {},
   "source": [
    "### 프로젝트 (5) 칼만 필터 적용하기"
   ]
  },
  {
   "cell_type": "markdown",
   "id": "artificial-narrative",
   "metadata": {},
   "source": [
    "#### 1. 카메라 앞에서 가만히 있을 때 스티커의 움직임을 관찰할 때 어떤 문제가 발생하는가?\n",
    "- 가만히 있어도 스티커의 크리가 일정하게 유지되지 않고, 떨리는 것처럼 보이는 현상이 발생"
   ]
  },
  {
   "cell_type": "markdown",
   "id": "partial-longitude",
   "metadata": {},
   "source": [
    "#### 2. 이론 강의에서 배운 칼만 필터를 적용해서 스티커 움직임을 안정화"
   ]
  },
  {
   "cell_type": "code",
   "execution_count": null,
   "id": "treated-filing",
   "metadata": {},
   "outputs": [],
   "source": [
    "import numpy as np\n",
    "import cv2\n",
    "import dlib\n",
    "\n",
    "from kfaddsticker import img2sticker_kf\n",
    "\n",
    "detector_hog = dlib.get_frontal_face_detector()\n",
    "landmark_predictor = dlib.shape_predictor('./models/shape_predictor_68_face_landmarks.dat')\n",
    "\n",
    "def main():\n",
    "    cv2.namedWindow('show', 0)\n",
    "    cv2.resizeWindow('show', 640, 360)\n",
    "\n",
    "    #vc = cv2.VideoCapture(0)\n",
    "    vc = cv2.VideoCapture('./images/video2.mp4')\n",
    "    img_sticker = cv2.imread('./images/king.png')\n",
    "\n",
    "    vlen = int(vc.get(cv2.CAP_PROP_FRAME_COUNT))\n",
    "    print (vlen) # 웹캠은 video length 가 0 입니다.\n",
    "\n",
    "    # 정해진 길이가 없기 때문에 while 을 주로 사용합니다.\n",
    "    # for i in range(vlen):\n",
    "    while True:\n",
    "        ret, img = vc.read()\n",
    "        if ret == False:\n",
    "            break\n",
    "        start = cv2.getTickCount()\n",
    "        img = cv2.flip(img, 1)  # 보통 웹캠은 좌우 반전\n",
    "\n",
    "        # 스티커 메소드를 사용\n",
    "        img_result = img2sticker_kf(img, img_sticker.copy(), detector_hog, landmark_predictor)   \n",
    "\n",
    "        time = (cv2.getTickCount() - start) / cv2.getTickFrequency() * 1000\n",
    "        print ('[INFO] time: %.2fms'%time)\n",
    "        \n",
    "        cv2.imshow('show', img_result)\n",
    "        key = cv2.waitKey(1)\n",
    "        if key == 27:\n",
    "            break\n",
    "\n",
    "\n",
    "if __name__ == '__main__':\n",
    "    main()"
   ]
  }
 ],
 "metadata": {
  "kernelspec": {
   "display_name": "aiffel",
   "language": "python",
   "name": "aiffel"
  },
  "language_info": {
   "codemirror_mode": {
    "name": "ipython",
    "version": 3
   },
   "file_extension": ".py",
   "mimetype": "text/x-python",
   "name": "python",
   "nbconvert_exporter": "python",
   "pygments_lexer": "ipython3",
   "version": "3.7.10"
  }
 },
 "nbformat": 4,
 "nbformat_minor": 5
}
