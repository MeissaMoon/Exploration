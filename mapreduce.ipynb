{
 "cells": [
  {
   "cell_type": "markdown",
   "id": "passing-invalid",
   "metadata": {},
   "source": [
    "### 맵리듀스(Mapreduce)\n",
    "---\n",
    "![맵리듀스](https://aiffelstaticprd.blob.core.windows.net/media/images/F-35v2-2.max-800x600.png)\n",
    "- in_key = Split의 결과로 생긴 partitioning 키값. 키값은 최종 Output에는 반영되지 않음\n",
    "- map함수는 Split된 데이터를 가져다가 out_key와 intermediate_value의 리스트로 변환. out_key는 map함수가 결과물을 구분하는 기준 키값. \n",
    "- reduce 함수의 입력은 여러 map함수의 intermediate_value들을 out_key별로 구분해서 리스트업한 것을 입력으로 함. 이것을 가지고 reduce 함수는 out_key 기준으로 sum을 할 것입니다. 그래서 reduce 함수sms 최종적으로 out_value의 list를 출력합니다."
   ]
  },
  {
   "cell_type": "markdown",
   "id": "occupied-restaurant",
   "metadata": {},
   "source": [
    "![맵리듀스2](https://aiffelstaticprd.blob.core.windows.net/media/images/Untitled_evDkPe7.max-800x600.png)"
   ]
  },
  {
   "cell_type": "markdown",
   "id": "racial-subscription",
   "metadata": {},
   "source": [
    "### 파이썬 함수의 특징"
   ]
  },
  {
   "cell_type": "markdown",
   "id": "spiritual-smith",
   "metadata": {},
   "source": [
    "#### 함수는 다른 함수의 인자로 전달될 수 있다."
   ]
  },
  {
   "cell_type": "code",
   "execution_count": 1,
   "id": "entertaining-saskatchewan",
   "metadata": {},
   "outputs": [
    {
     "name": "stdout",
     "output_type": "stream",
     "text": [
      "슝=3\n"
     ]
    }
   ],
   "source": [
    "#에러메세지를 출력하는 함수\n",
    "def errormessage(format_func, msg):\n",
    "    print(format_func(msg))\n",
    "\n",
    "#단어의 첫글자만 대문자로 만드는 함수\n",
    "def to_upper(msg):\n",
    "    t = msg.split(\" \")\n",
    "    T = []\n",
    "    for i in t:\n",
    "        i = i[0].upper() + i[1:]\n",
    "        T.append(i)\n",
    "    T = \" \".join(T)\n",
    "    return T\n",
    "\n",
    "print(\"슝=3\")"
   ]
  },
  {
   "cell_type": "code",
   "execution_count": 2,
   "id": "polished-ranking",
   "metadata": {},
   "outputs": [
    {
     "name": "stdout",
     "output_type": "stream",
     "text": [
      "You Have Limited Access\n"
     ]
    }
   ],
   "source": [
    "msg = \"you have limited access\"\n",
    "errormessage(to_upper, msg)"
   ]
  },
  {
   "cell_type": "markdown",
   "id": "requested-racing",
   "metadata": {},
   "source": [
    "#### 함수는 다른 함수의 인자로 전달될 수 있다"
   ]
  },
  {
   "cell_type": "code",
   "execution_count": 3,
   "id": "laden-welsh",
   "metadata": {},
   "outputs": [
    {
     "name": "stdout",
     "output_type": "stream",
     "text": [
      "슝=3\n"
     ]
    }
   ],
   "source": [
    "def france():\n",
    "    print('bonjour')\n",
    "\n",
    "def italy():\n",
    "    print('ciao')\n",
    "\n",
    "print(\"슝=3\")"
   ]
  },
  {
   "cell_type": "code",
   "execution_count": 4,
   "id": "impossible-brazil",
   "metadata": {},
   "outputs": [
    {
     "name": "stdout",
     "output_type": "stream",
     "text": [
      "<function france at 0x7f87d056e3b0>\n"
     ]
    }
   ],
   "source": [
    "hello = france\n",
    "print(hello)"
   ]
  },
  {
   "cell_type": "code",
   "execution_count": 5,
   "id": "accessory-ecology",
   "metadata": {},
   "outputs": [
    {
     "name": "stdout",
     "output_type": "stream",
     "text": [
      "bonjour\n"
     ]
    }
   ],
   "source": [
    "hello()"
   ]
  },
  {
   "cell_type": "code",
   "execution_count": 6,
   "id": "native-function",
   "metadata": {},
   "outputs": [
    {
     "name": "stdout",
     "output_type": "stream",
     "text": [
      "<class 'function'>\n"
     ]
    }
   ],
   "source": [
    "print(type(hello))"
   ]
  },
  {
   "cell_type": "markdown",
   "id": "unexpected-opening",
   "metadata": {},
   "source": [
    "#### 함수는 다른 함수의 결과로서 반환될 수 있다."
   ]
  },
  {
   "cell_type": "code",
   "execution_count": 7,
   "id": "alpine-sound",
   "metadata": {},
   "outputs": [
    {
     "name": "stdout",
     "output_type": "stream",
     "text": [
      "슝=3\n"
     ]
    }
   ],
   "source": [
    "def func1(x):\n",
    "    return x**2\n",
    "\n",
    "def func2():\n",
    "    return func1\n",
    "\n",
    "print(\"슝=3\")"
   ]
  },
  {
   "cell_type": "code",
   "execution_count": 8,
   "id": "flush-jamaica",
   "metadata": {},
   "outputs": [
    {
     "name": "stdout",
     "output_type": "stream",
     "text": [
      "9\n",
      "9\n"
     ]
    }
   ],
   "source": [
    "print(func1(3))\n",
    "print(func2()(3))"
   ]
  },
  {
   "cell_type": "markdown",
   "id": "light-triumph",
   "metadata": {},
   "source": [
    "###  함수형 프로그래밍과 맵리듀스"
   ]
  },
  {
   "cell_type": "code",
   "execution_count": 9,
   "id": "polish-buyer",
   "metadata": {},
   "outputs": [
    {
     "name": "stdout",
     "output_type": "stream",
     "text": [
      "슝=3\n"
     ]
    }
   ],
   "source": [
    "# List, Tuple, Dictionary, Set의 자료형을 컬렉션이라고 함.\n",
    "import collections\n",
    "print(\"슝=3\")"
   ]
  },
  {
   "cell_type": "code",
   "execution_count": 15,
   "id": "fallen-telephone",
   "metadata": {},
   "outputs": [
    {
     "name": "stdout",
     "output_type": "stream",
     "text": [
      "2\n"
     ]
    }
   ],
   "source": [
    "from collections import defaultdict\n",
    "\n",
    "text = \"\"\"I have a depression, and then there was a girl who came into \n",
    "my life. One day, my life was changed because that girl just changed my \n",
    "life. She taught me how to love and how to be an active person. \n",
    "And then, I feel so happy when I am always with her. \n",
    "I love her so much. I don't want let her go. I am sad because she \n",
    "is with her favorite friends. I will do anything to make her proud\"\"\"\n",
    "\n",
    "result = defaultdict(int)\n",
    "word = text.split( )\n",
    "\n",
    "\n",
    "for i in word:\n",
    "    result[i] +=1\n",
    "    \n",
    "print(result['girl'])"
   ]
  },
  {
   "cell_type": "code",
   "execution_count": 16,
   "id": "nervous-longitude",
   "metadata": {},
   "outputs": [
    {
     "name": "stdout",
     "output_type": "stream",
     "text": [
      "[1, 2, 3, 4]\n",
      "[1, 4, 9, 16]\n"
     ]
    }
   ],
   "source": [
    "# mapping\n",
    "mynum = ['1','2','3','4']\n",
    "mynum_int = list(map(int, mynum))  # mynum의 각 원소에 int 함수를 적용\n",
    "print(mynum_int)\n",
    "\n",
    "mynum_square = list(map(lambda x : x*x, mynum_int))  # mynum_int의 각 원소 x에 lambda x : x*x 함수를 적용\n",
    "print(mynum_square)"
   ]
  },
  {
   "cell_type": "code",
   "execution_count": 19,
   "id": "standing-commercial",
   "metadata": {},
   "outputs": [
    {
     "name": "stdout",
     "output_type": "stream",
     "text": [
      "[1, 2, 3]\n"
     ]
    }
   ],
   "source": [
    "# filtering\n",
    "mynum = range(-5, 4)  \n",
    "mynum_plus = list(filter(lambda x: x > 0, mynum)) # mynum의 각 원소 x에 대해 lambda x: x > 0 인지 체크하는 필터를 적용\n",
    "print(mynum_plus)"
   ]
  },
  {
   "cell_type": "code",
   "execution_count": 20,
   "id": "industrial-essex",
   "metadata": {},
   "outputs": [
    {
     "name": "stdout",
     "output_type": "stream",
     "text": [
      "15\n"
     ]
    }
   ],
   "source": [
    "# reducing\n",
    "from functools import reduce\n",
    "mynum = [1, 2, 3, 4, 5]\n",
    "add = reduce((lambda x, y: x + y), mynum)  # reduce는 내부에 관리하는 x 변수에 mynum의 각 원소 y를 차례차례 더하여 x에 반영한다.\n",
    "\n",
    "print(add)"
   ]
  },
  {
   "cell_type": "markdown",
   "id": "decent-maldives",
   "metadata": {},
   "source": [
    "![맵리듀스순서](https://aiffelstaticprd.blob.core.windows.net/media/images/Untitled_12_KrcBI1b.max-800x600.png)\n",
    "- 맵리듀스는 크게 4가지 순서로 나뉘며 크게, map task(map, split)와 reduce task(shuffle, reduce) 로 나뉜다"
   ]
  },
  {
   "cell_type": "markdown",
   "id": "emerging-startup",
   "metadata": {},
   "source": [
    "### 맵리듀스로 알파벳 수 찾기\n",
    "1. 입력 데이터 - hello python\n",
    "2. Split - h,e,l,l,o,(공백),p,y,t,h,o,n\n",
    "3. Map - (h:1, e:1, l:1, l:1, o:1, ' ':1, …)\n",
    "4. Reduce - (h:1, e:1, l:2…)"
   ]
  },
  {
   "cell_type": "code",
   "execution_count": 21,
   "id": "worst-singer",
   "metadata": {},
   "outputs": [
    {
     "name": "stdout",
     "output_type": "stream",
     "text": [
      "슝=3\n"
     ]
    }
   ],
   "source": [
    "#input data\n",
    "text = 'hello python'\n",
    "\n",
    "# 텍스트 스플릿 내서 list에 저장\n",
    "def mapper(text):\n",
    "    split = []\n",
    "    for i in text:\n",
    "        split.append((i, 1))\n",
    "    return split\n",
    "\n",
    "print(\"슝=3\")"
   ]
  },
  {
   "cell_type": "code",
   "execution_count": 22,
   "id": "brave-scholar",
   "metadata": {},
   "outputs": [
    {
     "name": "stdout",
     "output_type": "stream",
     "text": [
      "슝=3\n"
     ]
    }
   ],
   "source": [
    "# mapper에서 받은 값 중 같은 값은 더한다\n",
    "def reducer(split):\n",
    "    out = {}\n",
    "    for i in split:\n",
    "        if i[0] not in out.keys():\n",
    "            out[i[0]] = 1\n",
    "        else:\n",
    "            out[i[0]] += 1\n",
    "    return out\n",
    "\n",
    "print(\"슝=3\")"
   ]
  },
  {
   "cell_type": "code",
   "execution_count": 23,
   "id": "serial-atlas",
   "metadata": {},
   "outputs": [
    {
     "data": {
      "text/plain": [
       "{'h': 2, 'e': 1, 'l': 2, 'o': 2, ' ': 1, 'p': 1, 'y': 1, 't': 1, 'n': 1}"
      ]
     },
     "execution_count": 23,
     "metadata": {},
     "output_type": "execute_result"
    }
   ],
   "source": [
    "reducer(mapper(text))"
   ]
  }
 ],
 "metadata": {
  "kernelspec": {
   "display_name": "aiffel",
   "language": "python",
   "name": "aiffel"
  },
  "language_info": {
   "codemirror_mode": {
    "name": "ipython",
    "version": 3
   },
   "file_extension": ".py",
   "mimetype": "text/x-python",
   "name": "python",
   "nbconvert_exporter": "python",
   "pygments_lexer": "ipython3",
   "version": "3.7.9"
  }
 },
 "nbformat": 4,
 "nbformat_minor": 5
}
